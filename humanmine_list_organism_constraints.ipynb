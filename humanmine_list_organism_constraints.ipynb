{
 "cells": [
  {
   "cell_type": "code",
   "execution_count": 6,
   "metadata": {},
   "outputs": [
    {
     "data": {
      "text/plain": [
       "<intermine.lists.list.List at 0x7ff22a65a470>"
      ]
     },
     "execution_count": 6,
     "metadata": {},
     "output_type": "execute_result"
    }
   ],
   "source": [
    "## setting up\n",
    "from intermine.webservice import Service\n",
    "\n",
    "service=Service(\"www.humanmine.org/humanmine/service\",token=\"R186O4J339i2zep0V4Zc\")\n",
    "lm = service.list_manager()\n",
    "\n",
    "## These symbols exist for humans and for other organisms too. \n",
    "symbols= [\"PPARG\",\"PAX6\"]"
   ]
  },
  {
   "cell_type": "markdown",
   "metadata": {},
   "source": [
    "Okay, let's try creating a list with these symbols but no organism specified. "
   ]
  },
  {
   "cell_type": "code",
   "execution_count": null,
   "metadata": {},
   "outputs": [],
   "source": [
    "# I would expect this to create a list with at least two and possibly more symbols.\n",
    "# currently it returns 0 entities in the list. \n",
    "lm.create_list(content=symbols,list_type=\"Gene\",name=\"my list with any organism\")"
   ]
  },
  {
   "cell_type": "markdown",
   "metadata": {},
   "source": [
    "Trying with the organism constraint... "
   ]
  },
  {
   "cell_type": "code",
   "execution_count": 9,
   "metadata": {},
   "outputs": [
    {
     "data": {
      "text/plain": [
       "<intermine.lists.list.List at 0x7ff22a6be898>"
      ]
     },
     "execution_count": 9,
     "metadata": {},
     "output_type": "execute_result"
    }
   ],
   "source": [
    "# Expectation: exactly two genes in the list, and only human ones.\n",
    "lm.create_list(content=symbols,\n",
    "               list_type=\"Gene\",\n",
    "               name=\"my list with just humans\", \n",
    "               organism=[\"Homo sapiens\"])"
   ]
  }
 ],
 "metadata": {
  "kernelspec": {
   "display_name": "Python 3",
   "language": "python",
   "name": "python3"
  },
  "language_info": {
   "codemirror_mode": {
    "name": "ipython",
    "version": 3
   },
   "file_extension": ".py",
   "mimetype": "text/x-python",
   "name": "python",
   "nbconvert_exporter": "python",
   "pygments_lexer": "ipython3",
   "version": "3.7.1"
  }
 },
 "nbformat": 4,
 "nbformat_minor": 2
}
