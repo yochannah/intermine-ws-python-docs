{
 "cells": [
  {
   "cell_type": "markdown",
   "metadata": {},
   "source": [
    "# Intermine-Python: Tutorial 3: More about Constraints"
   ]
  },
  {
   "cell_type": "markdown",
   "metadata": {},
   "source": [
    "In the previous tutorial, we learnt about adding constraints to our query so that we could filter the results. In this tutorial we will take a look at some more contraints and the different types of constraints. "
   ]
  },
  {
   "cell_type": "code",
   "execution_count": 4,
   "metadata": {},
   "outputs": [],
   "source": [
    "#Initial setup\n",
    "from intermine.webservice import Service"
   ]
  },
  {
   "cell_type": "code",
   "execution_count": 5,
   "metadata": {},
   "outputs": [],
   "source": [
    "service = Service(\"www.flymine.org/flymine/service\")\n",
    "query=service.new_query(\"Gene\") "
   ]
  },
  {
   "cell_type": "markdown",
   "metadata": {},
   "source": [
    "##### Unary Constraint"
   ]
  },
  {
   "cell_type": "markdown",
   "metadata": {},
   "source": [
    "The first type of constraint that we will look at is a Unary Constraint. A Unary Constraint is one that does not take any value but can be used to check if a particular attirbute is absent or present. The Unary constraints are `IS Null` and `IS NOT Null`. We can look at a small example. "
   ]
  },
  {
   "cell_type": "code",
   "execution_count": 3,
   "metadata": {},
   "outputs": [
    {
     "data": {
      "text/plain": [
       "<UnaryConstraint: Gene.primaryIdentifier IS NOT NULL>"
      ]
     },
     "execution_count": 3,
     "metadata": {},
     "output_type": "execute_result"
    }
   ],
   "source": [
    "# Syntax: query.add_constraint(field_name,\"IS NOT NULL\")\n",
    "# Try constraining the primaryIndentifier field to be not null.\n"
   ]
  },
  {
   "cell_type": "code",
   "execution_count": 4,
   "metadata": {},
   "outputs": [
    {
     "name": "stdout",
     "output_type": "stream",
     "text": [
      "Gene: briefDescription=None cytoLocation='-' description=None id=1000415 length=12653 name='zydeco' primaryIdentifier='FBgn0265767' score=None scoreType=None secondaryIdentifier='CG2893' symbol='zyd'\n",
      "Gene: briefDescription=None cytoLocation='-' description=None id=1004698 length=1951 name=None primaryIdentifier='FBgn0039942' score=None scoreType=None secondaryIdentifier='CG17163' symbol='CG17163'\n",
      "Gene: briefDescription=None cytoLocation='-' description=None id=1005938 length=12892 name='Rho GTPase activating protein at 1A' primaryIdentifier='FBgn0025836' score=None scoreType=None secondaryIdentifier='CG40494' symbol='RhoGAP1A'\n",
      "Gene: briefDescription=None cytoLocation='-' description=None id=1007519 length=21475 name='verthandi' primaryIdentifier='FBgn0260987' score=None scoreType=None secondaryIdentifier='CG17436' symbol='vtd'\n",
      "Gene: briefDescription=None cytoLocation='-' description=None id=1015398 length=14286 name='Maf1' primaryIdentifier='FBgn0267861' score=None scoreType=None secondaryIdentifier='CG40196' symbol='Maf1'\n",
      "Gene: briefDescription=None cytoLocation='-' description=None id=1018843 length=12844 name=None primaryIdentifier='FBgn0039941' score=None scoreType=None secondaryIdentifier='CG17167' symbol='CG17167'\n",
      "Gene: briefDescription=None cytoLocation='-' description=None id=1018936 length=11613 name=None primaryIdentifier='FBgn0040031' score=None scoreType=None secondaryIdentifier='CG12061' symbol='CG12061'\n",
      "Gene: briefDescription=None cytoLocation='-' description=None id=1019191 length=45356 name=None primaryIdentifier='FBgn0039959' score=None scoreType=None secondaryIdentifier='CG17514' symbol='CG17514'\n",
      "Gene: briefDescription=None cytoLocation='-' description=None id=1019474 length=21673 name=None primaryIdentifier='FBgn0039955' score=None scoreType=None secondaryIdentifier='CG41099' symbol='CG41099'\n",
      "Gene: briefDescription=None cytoLocation='-' description=None id=1020233 length=11099 name=None primaryIdentifier='FBgn0040056' score=None scoreType=None secondaryIdentifier='CG17698' symbol='CG17698'\n"
     ]
    }
   ],
   "source": [
    "for row in query.rows(size=10):\n",
    "    print(row)"
   ]
  },
  {
   "cell_type": "markdown",
   "metadata": {},
   "source": [
    "##### Binary Constraint"
   ]
  },
  {
   "cell_type": "markdown",
   "metadata": {},
   "source": [
    "The next type of constraint is a Binary Constraint. This refers to constraints that take a value. Most of the constraints that we looked at in the second tutorial were binary constraints. Binary constraints are the largest group of constraints. The operators are `=`,`<=`,`>=`,`<`,`>`,`!=`"
   ]
  },
  {
   "cell_type": "code",
   "execution_count": 6,
   "metadata": {},
   "outputs": [
    {
     "data": {
      "text/plain": [
       "<BinaryConstraint: Gene.length >= 12000>"
      ]
     },
     "execution_count": 6,
     "metadata": {},
     "output_type": "execute_result"
    }
   ],
   "source": [
    "# Syntax is query.add_constraint(field_name,operator,value)\n",
    "# Try constraining your Gene query to a length that is greater than or equal to 12000\n"
   ]
  },
  {
   "cell_type": "code",
   "execution_count": 6,
   "metadata": {},
   "outputs": [
    {
     "name": "stdout",
     "output_type": "stream",
     "text": [
      "Gene: briefDescription=None cytoLocation='-' description=None id=1000415 length=12653 name='zydeco' primaryIdentifier='FBgn0265767' score=None scoreType=None secondaryIdentifier='CG2893' symbol='zyd'\n",
      "Gene: briefDescription=None cytoLocation='-' description=None id=1005938 length=12892 name='Rho GTPase activating protein at 1A' primaryIdentifier='FBgn0025836' score=None scoreType=None secondaryIdentifier='CG40494' symbol='RhoGAP1A'\n",
      "Gene: briefDescription=None cytoLocation='-' description=None id=1007519 length=21475 name='verthandi' primaryIdentifier='FBgn0260987' score=None scoreType=None secondaryIdentifier='CG17436' symbol='vtd'\n",
      "Gene: briefDescription=None cytoLocation='-' description=None id=1015398 length=14286 name='Maf1' primaryIdentifier='FBgn0267861' score=None scoreType=None secondaryIdentifier='CG40196' symbol='Maf1'\n",
      "Gene: briefDescription=None cytoLocation='-' description=None id=1018843 length=12844 name=None primaryIdentifier='FBgn0039941' score=None scoreType=None secondaryIdentifier='CG17167' symbol='CG17167'\n",
      "Gene: briefDescription=None cytoLocation='-' description=None id=1019191 length=45356 name=None primaryIdentifier='FBgn0039959' score=None scoreType=None secondaryIdentifier='CG17514' symbol='CG17514'\n",
      "Gene: briefDescription=None cytoLocation='-' description=None id=1019474 length=21673 name=None primaryIdentifier='FBgn0039955' score=None scoreType=None secondaryIdentifier='CG41099' symbol='CG41099'\n",
      "Gene: briefDescription=None cytoLocation='-' description=None id=1020460 length=32088 name='kelch like family member 10' primaryIdentifier='FBgn0040038' score=None scoreType=None secondaryIdentifier='CG12423' symbol='klhl10'\n",
      "Gene: briefDescription=None cytoLocation='-' description=None id=1058972 length=133933 name=None primaryIdentifier='FBgn0058006' score=None scoreType=None secondaryIdentifier='CG40006' symbol='CG40006'\n",
      "Gene: briefDescription=None cytoLocation='-' description=None id=1060939 length=76790 name='neverland' primaryIdentifier='FBgn0259697' score=None scoreType=None secondaryIdentifier='CG40050' symbol='nvd'\n"
     ]
    }
   ],
   "source": [
    "for row in query.rows(size=10):\n",
    "    print(row)"
   ]
  },
  {
   "cell_type": "markdown",
   "metadata": {},
   "source": [
    "The above constraint is an example of a binary constraint. "
   ]
  },
  {
   "cell_type": "markdown",
   "metadata": {},
   "source": [
    "##### Ternary Constraint"
   ]
  },
  {
   "cell_type": "markdown",
   "metadata": {},
   "source": [
    "We will now look at Ternary constraints. A ternary constraint is a type of constraint which has one required value and one optional value. Currently, intermine supports only one such type of operator: `LOOKUP`. The lookup operator searches through all the fields in a particular class for the value specified by the user. In the example given below, it will search through the entire gene class to find if any of the fields has an occurence of \"zen\". The advantage of this is that you do not need to remember if zen is a symbol or a name or a primaryIdentifier. However, this may lead to ambiguous results and so you can use the optional `extra_value` parameter to limit the search to the type of object (for example, organism in genes). "
   ]
  },
  {
   "cell_type": "code",
   "execution_count": 7,
   "metadata": {},
   "outputs": [],
   "source": [
    "query2=service.new_query()"
   ]
  },
  {
   "cell_type": "code",
   "execution_count": 8,
   "metadata": {},
   "outputs": [
    {
     "data": {
      "text/plain": [
       "<TernaryConstraint: Gene LOOKUP ADH IN D. melanogaster>"
      ]
     },
     "execution_count": 8,
     "metadata": {},
     "output_type": "execute_result"
    }
   ],
   "source": [
    "# The syntax for the ternary LOOKUP constraint is is follows\n",
    "# query.add_constraint(\"Classname\", \"LOOKUP\", \"thing_to_search_for\", extra_value=\"extra_here\")\n",
    "# Try looking up a fly gene identifier of your choosing - e.g. perhaps \"ZEN\" or \"FBgn0000055\". \n",
    "# The extra value for a fly gene would be \"D. melanogaster\"\n",
    "\n"
   ]
  },
  {
   "cell_type": "code",
   "execution_count": 9,
   "metadata": {},
   "outputs": [
    {
     "name": "stdout",
     "output_type": "stream",
     "text": [
      "Gene: briefDescription=None cytoLocation=u'35B3-35B3' description=None id=1038479 length=3351 name=u'Alcohol dehydrogenase' primaryIdentifier=u'FBgn0000055' score=None scoreType=None secondaryIdentifier=u'CG3481' symbol=u'Adh'\n"
     ]
    }
   ],
   "source": [
    "for row in query2.rows():\n",
    "    print(row)"
   ]
  },
  {
   "cell_type": "markdown",
   "metadata": {},
   "source": [
    "##### Multi-Value Constraint"
   ]
  },
  {
   "cell_type": "markdown",
   "metadata": {},
   "source": [
    "The next constraint type that we will look at is Multi-Value constraints. This allows the constraint to take multiple values. The two operators that are allowed are ONE OF and NONE OF. "
   ]
  },
  {
   "cell_type": "code",
   "execution_count": 10,
   "metadata": {
    "collapsed": true
   },
   "outputs": [],
   "source": [
    "query3=service.new_query(\"Gene\")"
   ]
  },
  {
   "cell_type": "code",
   "execution_count": 11,
   "metadata": {},
   "outputs": [
    {
     "data": {
      "text/plain": [
       "<MultiConstraint: Gene.symbol NONE OF ['zen', 'eve']>"
      ]
     },
     "execution_count": 11,
     "metadata": {},
     "output_type": "execute_result"
    }
   ],
   "source": [
    "# syntax here is query.add_constraint(\"field_name\",\"NONE OF\",['value_one','value_two'])\n",
    "\n"
   ]
  },
  {
   "cell_type": "code",
   "execution_count": 12,
   "metadata": {},
   "outputs": [
    {
     "name": "stdout",
     "output_type": "stream",
     "text": [
      "Gene: briefDescription=None cytoLocation='-' description=None id=1000415 length=12653 name='zydeco' primaryIdentifier='FBgn0265767' score=None scoreType=None secondaryIdentifier='CG2893' symbol='zyd'\n",
      "Gene: briefDescription=None cytoLocation='-' description=None id=1004698 length=1951 name=None primaryIdentifier='FBgn0039942' score=None scoreType=None secondaryIdentifier='CG17163' symbol='CG17163'\n",
      "Gene: briefDescription=None cytoLocation='-' description=None id=1005938 length=12892 name='Rho GTPase activating protein at 1A' primaryIdentifier='FBgn0025836' score=None scoreType=None secondaryIdentifier='CG40494' symbol='RhoGAP1A'\n",
      "Gene: briefDescription=None cytoLocation='-' description=None id=1007519 length=21475 name='verthandi' primaryIdentifier='FBgn0260987' score=None scoreType=None secondaryIdentifier='CG17436' symbol='vtd'\n",
      "Gene: briefDescription=None cytoLocation='-' description=None id=1015398 length=14286 name='Maf1' primaryIdentifier='FBgn0267861' score=None scoreType=None secondaryIdentifier='CG40196' symbol='Maf1'\n",
      "Gene: briefDescription=None cytoLocation='-' description=None id=1018843 length=12844 name=None primaryIdentifier='FBgn0039941' score=None scoreType=None secondaryIdentifier='CG17167' symbol='CG17167'\n",
      "Gene: briefDescription=None cytoLocation='-' description=None id=1018936 length=11613 name=None primaryIdentifier='FBgn0040031' score=None scoreType=None secondaryIdentifier='CG12061' symbol='CG12061'\n",
      "Gene: briefDescription=None cytoLocation='-' description=None id=1019191 length=45356 name=None primaryIdentifier='FBgn0039959' score=None scoreType=None secondaryIdentifier='CG17514' symbol='CG17514'\n",
      "Gene: briefDescription=None cytoLocation='-' description=None id=1019474 length=21673 name=None primaryIdentifier='FBgn0039955' score=None scoreType=None secondaryIdentifier='CG41099' symbol='CG41099'\n",
      "Gene: briefDescription=None cytoLocation='-' description=None id=1020233 length=11099 name=None primaryIdentifier='FBgn0040056' score=None scoreType=None secondaryIdentifier='CG17698' symbol='CG17698'\n"
     ]
    }
   ],
   "source": [
    "for row in query3.rows(size=10):\n",
    "    print(row)"
   ]
  },
  {
   "cell_type": "markdown",
   "metadata": {},
   "source": [
    "##### List Constraint"
   ]
  },
  {
   "cell_type": "markdown",
   "metadata": {},
   "source": [
    "List Constraints: List constraints allow users to create a named list of objects and then use the operators `IN` and `NOT IN` to use those named lists in queries. An example for the same is below. The path in such a query must always be a Class (for example - Gene is a valid path). The available lists in intermine can be found at: http://www.flymine.org/flymine/bag.do?subtab=view ."
   ]
  },
  {
   "cell_type": "code",
   "execution_count": 10,
   "metadata": {},
   "outputs": [],
   "source": [
    "query4=service.new_query()"
   ]
  },
  {
   "cell_type": "code",
   "execution_count": 11,
   "metadata": {},
   "outputs": [
    {
     "data": {
      "text/plain": [
       "<ListConstraint: Gene IN PL FlyAtlas_brain_top>"
      ]
     },
     "execution_count": 11,
     "metadata": {},
     "output_type": "execute_result"
    }
   ],
   "source": [
    "# Syntax: query.add_constraint(class_name,\"IN\",list_name)\n",
    "# Try selecting a Gene that is in the list \"PL FlyAtlas_brain_top\"\n",
    "\n"
   ]
  },
  {
   "cell_type": "code",
   "execution_count": 12,
   "metadata": {},
   "outputs": [
    {
     "name": "stdout",
     "output_type": "stream",
     "text": [
      "Gene: briefDescription=None cytoLocation=u'10A3-10A3' description=None id=1109635 length=2075 name=None primaryIdentifier=u'FBgn0030259' score=None scoreType=None secondaryIdentifier=u'CG1545' symbol=u'CG1545'\n",
      "Gene: briefDescription=None cytoLocation=u'11D8-11D8' description=None id=1040181 length=90456 name=u'radish' primaryIdentifier=u'FBgn0265597' score=None scoreType=None secondaryIdentifier=u'CG44424' symbol=u'rad'\n",
      "Gene: briefDescription=None cytoLocation=u'14A1-14A1' description=None id=1041556 length=26224 name=u'mind-meld' primaryIdentifier=u'FBgn0259110' score=None scoreType=None secondaryIdentifier=u'CG42252' symbol=u'mmd'\n",
      "Gene: briefDescription=None cytoLocation=u'16F3-16F5' description=None id=1061141 length=138941 name=u'Shaker' primaryIdentifier=u'FBgn0003380' score=None scoreType=None secondaryIdentifier=u'CG12348' symbol=u'Sh'\n",
      "Gene: briefDescription=None cytoLocation=u'18C2-18C3' description=None id=1078562 length=21373 name=u'nicotinic Acetylcholine Receptor alpha7' primaryIdentifier=u'FBgn0086778' score=None scoreType=None secondaryIdentifier=u'CG32538' symbol=u'nAChRalpha7'\n",
      "Gene: briefDescription=None cytoLocation=u'19A4-19A4' description=None id=1071407 length=58027 name=u'Dopamine 2-like receptor' primaryIdentifier=u'FBgn0053517' score=None scoreType=None secondaryIdentifier=u'CG33517' symbol=u'Dop2R'\n",
      "Gene: briefDescription=None cytoLocation=u'24C9-24D1' description=None id=1008394 length=88786 name=u'friend of echinoid' primaryIdentifier=u'FBgn0051774' score=None scoreType=None secondaryIdentifier=u'CG31774' symbol=u'fred'\n",
      "Gene: briefDescription=None cytoLocation=u'25B4-25B4' description=None id=1700377 length=1564 name=None primaryIdentifier=u'FBgn0031650' score=None scoreType=None secondaryIdentifier=u'CG14044' symbol=u'CG14044'\n",
      "Gene: briefDescription=None cytoLocation=u'30D1-30E1' description=None id=1434993 length=92934 name=u'nicotinic Acetylcholine Receptor alpha6' primaryIdentifier=u'FBgn0032151' score=None scoreType=None secondaryIdentifier=u'CG4128' symbol=u'nAChRalpha6'\n",
      "Gene: briefDescription=None cytoLocation=u'42D4-42D6' description=None id=1182992 length=10005 name=None primaryIdentifier=u'FBgn0033108' score=None scoreType=None secondaryIdentifier=u'CG15236' symbol=u'CG15236'\n"
     ]
    }
   ],
   "source": [
    "for row in query4.rows(size=10):\n",
    "    print(row)"
   ]
  },
  {
   "cell_type": "markdown",
   "metadata": {},
   "source": [
    "##### Sub-Class Constraints"
   ]
  },
  {
   "cell_type": "markdown",
   "metadata": {},
   "source": [
    "The intermine database is a hierarchical database. Sub-class constraints allow you to specify a sub-class of a class to constrain a path to. This basically allows us to constrain our results to only those items of the sub class. The example below is an example of a sub-class constraint. "
   ]
  },
  {
   "cell_type": "code",
   "execution_count": 19,
   "metadata": {
    "collapsed": true
   },
   "outputs": [],
   "source": [
    "query5=service.new_query(\"Gene\")"
   ]
  },
  {
   "cell_type": "code",
   "execution_count": 20,
   "metadata": {},
   "outputs": [
    {
     "data": {
      "text/plain": [
       "<SubClassConstraint: Gene.ontologyAnnotations ISA GOAnnotation>"
      ]
     },
     "execution_count": 20,
     "metadata": {},
     "output_type": "execute_result"
    }
   ],
   "source": [
    "# Syntax is query5.add_constraint(sub_class, parent_class)\n",
    "# Try setting the sub_class to \"ontologyAnnotations\" and the parent to \"GOAnnotation\"\n",
    "\n"
   ]
  },
  {
   "cell_type": "code",
   "execution_count": 21,
   "metadata": {},
   "outputs": [
    {
     "name": "stdout",
     "output_type": "stream",
     "text": [
      "Gene: briefDescription=None cytoLocation='-' description=None id=1000415 length=12653 name='zydeco' primaryIdentifier='FBgn0265767' score=None scoreType=None secondaryIdentifier='CG2893' symbol='zyd'\n",
      "Gene: briefDescription=None cytoLocation='-' description=None id=1005938 length=12892 name='Rho GTPase activating protein at 1A' primaryIdentifier='FBgn0025836' score=None scoreType=None secondaryIdentifier='CG40494' symbol='RhoGAP1A'\n",
      "Gene: briefDescription=None cytoLocation='-' description=None id=1007519 length=21475 name='verthandi' primaryIdentifier='FBgn0260987' score=None scoreType=None secondaryIdentifier='CG17436' symbol='vtd'\n",
      "Gene: briefDescription=None cytoLocation='-' description=None id=1015398 length=14286 name='Maf1' primaryIdentifier='FBgn0267861' score=None scoreType=None secondaryIdentifier='CG40196' symbol='Maf1'\n",
      "Gene: briefDescription=None cytoLocation='-' description=None id=1018843 length=12844 name=None primaryIdentifier='FBgn0039941' score=None scoreType=None secondaryIdentifier='CG17167' symbol='CG17167'\n",
      "Gene: briefDescription=None cytoLocation='-' description=None id=1018936 length=11613 name=None primaryIdentifier='FBgn0040031' score=None scoreType=None secondaryIdentifier='CG12061' symbol='CG12061'\n",
      "Gene: briefDescription=None cytoLocation='-' description=None id=1019191 length=45356 name=None primaryIdentifier='FBgn0039959' score=None scoreType=None secondaryIdentifier='CG17514' symbol='CG17514'\n",
      "Gene: briefDescription=None cytoLocation='-' description=None id=1019474 length=21673 name=None primaryIdentifier='FBgn0039955' score=None scoreType=None secondaryIdentifier='CG41099' symbol='CG41099'\n",
      "Gene: briefDescription=None cytoLocation='-' description=None id=1020233 length=11099 name=None primaryIdentifier='FBgn0040056' score=None scoreType=None secondaryIdentifier='CG17698' symbol='CG17698'\n",
      "Gene: briefDescription=None cytoLocation='-' description=None id=1020460 length=32088 name='kelch like family member 10' primaryIdentifier='FBgn0040038' score=None scoreType=None secondaryIdentifier='CG12423' symbol='klhl10'\n"
     ]
    }
   ],
   "source": [
    "for row in query5.rows(size=10):\n",
    "    print(row)"
   ]
  },
  {
   "cell_type": "markdown",
   "metadata": {},
   "source": [
    "Unlike most constraints, Sub-class constraints do not have an operator that is specified as a parameter to a constraint. "
   ]
  },
  {
   "cell_type": "markdown",
   "metadata": {},
   "source": [
    "This tutorial summed up some of the important constraint types. In the next tutorial we will look at some of the other features of a query. "
   ]
  }
 ],
 "metadata": {
  "anaconda-cloud": {},
  "kernelspec": {
   "display_name": "Python 2",
   "language": "python",
   "name": "python2"
  },
  "language_info": {
   "codemirror_mode": {
    "name": "ipython",
    "version": 2
   },
   "file_extension": ".py",
   "mimetype": "text/x-python",
   "name": "python",
   "nbconvert_exporter": "python",
   "pygments_lexer": "ipython2",
   "version": "2.7.14"
  }
 },
 "nbformat": 4,
 "nbformat_minor": 1
}
