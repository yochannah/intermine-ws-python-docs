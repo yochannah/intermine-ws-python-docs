{
 "cells": [
  {
   "cell_type": "markdown",
   "metadata": {},
   "source": [
    "# Intermine-Python: Tutorial 4: Query Features - Joins"
   ]
  },
  {
   "cell_type": "markdown",
   "metadata": {},
   "source": [
    "In the previous tutorials we learnt about the basic backbone of a query - views and constraints. This short tutorial will talk about another feature of an intermine query - Outer and Inner Joins. "
   ]
  },
  {
   "cell_type": "markdown",
   "metadata": {},
   "source": [
    "When we add a path to a query, even if it is in the view, then by default there is a contraint involved. Our query will consist of only those records that have information in the fields or attributes that are described by the path. "
   ]
  },
  {
   "cell_type": "markdown",
   "metadata": {},
   "source": [
    "Let's say that we want to get any genes involved in a biosynthetic process and any publications on them. If a particular gene has the publication information available, then we want to view it but if it does not then we still want to view the general information about the Gene. By default, Intermine is designed to give you an Inner Join, which basically means that no partial matches will be part of the result. However, for the example that we are discussing over here, we would require something known as an Outer Join. An Outer Join on Gene.publications would help in solving the problem for us. The code for the same is given below. "
   ]
  },
  {
   "cell_type": "markdown",
   "metadata": {},
   "source": [
    "We begin as usual by importing the Service module and creating a Query object. "
   ]
  },
  {
   "cell_type": "code",
   "execution_count": 1,
   "metadata": {},
   "outputs": [],
   "source": [
    "from intermine.webservice import Service"
   ]
  },
  {
   "cell_type": "code",
   "execution_count": 2,
   "metadata": {},
   "outputs": [],
   "source": [
    "service = Service(\"www.flymine.org/flymine/service\")\n",
    "query=service.new_query(\"Gene\")"
   ]
  },
  {
   "cell_type": "markdown",
   "metadata": {},
   "source": [
    "We then select the columns that we want in our final output and add the constraint. "
   ]
  },
  {
   "cell_type": "code",
   "execution_count": 3,
   "metadata": {},
   "outputs": [
    {
     "data": {
      "text/plain": [
       "<intermine.query.Query at 0x7f0b8a12b5d0>"
      ]
     },
     "execution_count": 3,
     "metadata": {},
     "output_type": "execute_result"
    }
   ],
   "source": [
    "query.select(\"primaryIdentifier\",\"symbol\",\"publications.year\",\"publications.firstAuthor\",\"publications.title\")"
   ]
  },
  {
   "cell_type": "code",
   "execution_count": 4,
   "metadata": {},
   "outputs": [
    {
     "data": {
      "text/plain": [
       "<BinaryConstraint: Gene.ontologyAnnotations.ontologyTerm.name = *biosynthetic process*>"
      ]
     },
     "execution_count": 4,
     "metadata": {},
     "output_type": "execute_result"
    }
   ],
   "source": [
    "query.add_constraint(\"ontologyAnnotations.ontologyTerm.name\",\"=\",\"*biosynthetic process*\")"
   ]
  },
  {
   "cell_type": "markdown",
   "metadata": {},
   "source": [
    "And finally, we add an outer join. "
   ]
  },
  {
   "cell_type": "code",
   "execution_count": 5,
   "metadata": {},
   "outputs": [
    {
     "data": {
      "text/plain": [
       "<intermine.query.Query at 0x7f0b8a12b5d0>"
      ]
     },
     "execution_count": 5,
     "metadata": {},
     "output_type": "execute_result"
    }
   ],
   "source": [
    "query.outerjoin(\"publications\")"
   ]
  },
  {
   "cell_type": "code",
   "execution_count": 6,
   "metadata": {},
   "outputs": [
    {
     "name": "stdout",
     "output_type": "stream",
     "text": [
      "Gene: primaryIdentifier='FBgn0000022' symbol='ac' publications.year=2010 publications.firstAuthor='Neely G Gregory' publications.title='A genome-wide Drosophila screen for heat nociception identifies α2δ3 as an evolutionarily conserved pain gene.'\n",
      "Gene: primaryIdentifier='FBgn0000022' symbol='ac' publications.year=2005 publications.firstAuthor='Hoskins Roger A' publications.title='Rapid and efficient cDNA library screening by self-ligation of inverse PCR products (SLIP).'\n",
      "Gene: primaryIdentifier='FBgn0000022' symbol='ac' publications.year=2015 publications.firstAuthor='Nitta Kazuhiro R' publications.title='Conservation of transcription factor binding specificities across 600 million years of bilateria evolution.'\n",
      "Gene: primaryIdentifier='FBgn0000022' symbol='ac' publications.year=2010 publications.firstAuthor='Neely G Gregory' publications.title='A global in vivo Drosophila RNAi screen identifies NOT3 as a conserved regulator of heart function.'\n",
      "Gene: primaryIdentifier='FBgn0000022' symbol='ac' publications.year=2001 publications.firstAuthor='Benos P V' publications.title='From first base: the sequence of the tip of the X chromosome of Drosophila melanogaster, a comparison of two sequencing strategies.'\n",
      "Gene: primaryIdentifier='FBgn0000022' symbol='ac' publications.year=1999 publications.firstAuthor='Duronio R J' publications.title='Establishing links between developmental signaling pathways and cell-cycle regulation in Drosophila.'\n",
      "Gene: primaryIdentifier='FBgn0000022' symbol='ac' publications.year=None publications.firstAuthor='Apitz Holger' publications.title='A challenge of numbers and diversity: neurogenesis in the Drosophila optic lobe.'\n",
      "Gene: primaryIdentifier='FBgn0000022' symbol='ac' publications.year=2002 publications.firstAuthor='Nybakken Kent' publications.title='Heparan sulfate proteoglycan modulation of developmental signaling in Drosophila.'\n",
      "Gene: primaryIdentifier='FBgn0000022' symbol='ac' publications.year=1986 publications.firstAuthor='Lefevre G' publications.title='The question of the total gene number in Drosophila melanogaster.'\n",
      "Gene: primaryIdentifier='FBgn0000022' symbol='ac' publications.year=1998 publications.firstAuthor='Doe C Q' publications.title='Neural stem cells: from fly to vertebrates.'\n"
     ]
    }
   ],
   "source": [
    "for row in query.rows(size=10):\n",
    "    print(row)"
   ]
  },
  {
   "cell_type": "markdown",
   "metadata": {},
   "source": [
    "Another query feature that Intermine has is the ability to define shorter column names. This can be done using the add_path_description method. I'll show you a short example. "
   ]
  },
  {
   "cell_type": "code",
   "execution_count": 6,
   "metadata": {},
   "outputs": [
    {
     "data": {
      "text/plain": [
       "<intermine.query.Query at 0x7f0b8a12b5d0>"
      ]
     },
     "execution_count": 6,
     "metadata": {},
     "output_type": "execute_result"
    }
   ],
   "source": [
    "query.add_view(\"ontologyAnnotations.ontologyTerm.name\")"
   ]
  },
  {
   "cell_type": "code",
   "execution_count": 7,
   "metadata": {},
   "outputs": [
    {
     "data": {
      "text/plain": [
       "<PathDescription: Gene.ontologyAnnotations.ontologyTerm>"
      ]
     },
     "execution_count": 7,
     "metadata": {},
     "output_type": "execute_result"
    }
   ],
   "source": [
    "query.add_path_description(\"ontologyAnnotations.ontologyTerm\",\"Ontology Term\")"
   ]
  },
  {
   "cell_type": "code",
   "execution_count": 8,
   "metadata": {},
   "outputs": [
    {
     "data": {
      "text/plain": [
       "<PathDescription: Gene.publications>"
      ]
     },
     "execution_count": 8,
     "metadata": {},
     "output_type": "execute_result"
    }
   ],
   "source": [
    "query.add_path_description(\"publications\",\"Pub.\")"
   ]
  },
  {
   "cell_type": "markdown",
   "metadata": {},
   "source": [
    "This helps us when we want to print our tables into a file and want the column names to be in a more readable format. "
   ]
  },
  {
   "cell_type": "code",
   "execution_count": 9,
   "metadata": {},
   "outputs": [
    {
     "ename": "WebserviceError",
     "evalue": "('There was a problem with our request', 400, 'Bad Request', u\"Query does not pass XML validation. cvc-complex-type.3.2.2: Attribute 'path' is not allowed to appear in element 'pathDescription'.\\ncvc-complex-type.4: Attribute 'pathString' must appear on element 'pathDescription'.\\ncvc-complex-type.3.2.2: Attribute 'path' is not allowed to appear in element 'pathDescription'.\\ncvc-complex-type.4: Attribute 'pathString' must appear on element 'pathDescription'.\\n\")",
     "output_type": "error",
     "traceback": [
      "\u001b[0;31m---------------------------------------------------------------------------\u001b[0m",
      "\u001b[0;31mWebserviceError\u001b[0m                           Traceback (most recent call last)",
      "\u001b[0;32m<ipython-input-9-2a7127479130>\u001b[0m in \u001b[0;36m<module>\u001b[0;34m()\u001b[0m\n\u001b[0;32m----> 1\u001b[0;31m \u001b[0;32mfor\u001b[0m \u001b[0mrow\u001b[0m \u001b[0;32min\u001b[0m \u001b[0mquery\u001b[0m\u001b[0;34m.\u001b[0m\u001b[0mrows\u001b[0m\u001b[0;34m(\u001b[0m\u001b[0msize\u001b[0m\u001b[0;34m=\u001b[0m\u001b[0;36m10\u001b[0m\u001b[0;34m)\u001b[0m\u001b[0;34m:\u001b[0m\u001b[0;34m\u001b[0m\u001b[0m\n\u001b[0m\u001b[1;32m      2\u001b[0m     \u001b[0;32mprint\u001b[0m\u001b[0;34m(\u001b[0m\u001b[0mrow\u001b[0m\u001b[0;34m)\u001b[0m\u001b[0;34m\u001b[0m\u001b[0m\n",
      "\u001b[0;32m/home/FILESERVER5/micklem/yy406/anaconda2/lib/python2.7/site-packages/intermine/results.pyc\u001b[0m in \u001b[0;36m__iter__\u001b[0;34m(self)\u001b[0m\n\u001b[1;32m    384\u001b[0m         \u001b[0mReturns\u001b[0m \u001b[0mthe\u001b[0m \u001b[0minternal\u001b[0m \u001b[0miterator\u001b[0m \u001b[0mobject\u001b[0m\u001b[0;34m.\u001b[0m\u001b[0;34m\u001b[0m\u001b[0m\n\u001b[1;32m    385\u001b[0m         \"\"\"\n\u001b[0;32m--> 386\u001b[0;31m         \u001b[0mcon\u001b[0m \u001b[0;34m=\u001b[0m \u001b[0mself\u001b[0m\u001b[0;34m.\u001b[0m\u001b[0mopener\u001b[0m\u001b[0;34m.\u001b[0m\u001b[0mopen\u001b[0m\u001b[0;34m(\u001b[0m\u001b[0mself\u001b[0m\u001b[0;34m.\u001b[0m\u001b[0murl\u001b[0m\u001b[0;34m,\u001b[0m \u001b[0mself\u001b[0m\u001b[0;34m.\u001b[0m\u001b[0mdata\u001b[0m\u001b[0;34m)\u001b[0m\u001b[0;34m\u001b[0m\u001b[0m\n\u001b[0m\u001b[1;32m    387\u001b[0m         \u001b[0midentity\u001b[0m \u001b[0;34m=\u001b[0m \u001b[0;32mlambda\u001b[0m \u001b[0mx\u001b[0m\u001b[0;34m:\u001b[0m \u001b[0mx\u001b[0m\u001b[0;34m\u001b[0m\u001b[0m\n\u001b[1;32m    388\u001b[0m         \u001b[0mflat_file_parser\u001b[0m \u001b[0;34m=\u001b[0m \u001b[0;32mlambda\u001b[0m\u001b[0;34m:\u001b[0m \u001b[0mFlatFileIterator\u001b[0m\u001b[0;34m(\u001b[0m\u001b[0mcon\u001b[0m\u001b[0;34m,\u001b[0m \u001b[0midentity\u001b[0m\u001b[0;34m)\u001b[0m\u001b[0;34m\u001b[0m\u001b[0m\n",
      "\u001b[0;32m/home/FILESERVER5/micklem/yy406/anaconda2/lib/python2.7/site-packages/intermine/results.pyc\u001b[0m in \u001b[0;36mopen\u001b[0;34m(self, url, data, headers, method)\u001b[0m\n\u001b[1;32m    650\u001b[0m                     \u001b[0;36m500\u001b[0m\u001b[0;34m:\u001b[0m \u001b[0mself\u001b[0m\u001b[0;34m.\u001b[0m\u001b[0mhttp_error_500\u001b[0m\u001b[0;34m\u001b[0m\u001b[0m\n\u001b[1;32m    651\u001b[0m                     }.get(e.code, self.http_error_default)\n\u001b[0;32m--> 652\u001b[0;31m             \u001b[0mhandler\u001b[0m\u001b[0;34m(\u001b[0m\u001b[0;34m*\u001b[0m\u001b[0margs\u001b[0m\u001b[0;34m)\u001b[0m\u001b[0;34m\u001b[0m\u001b[0m\n\u001b[0m\u001b[1;32m    653\u001b[0m \u001b[0;34m\u001b[0m\u001b[0m\n\u001b[1;32m    654\u001b[0m     \u001b[0;32mdef\u001b[0m \u001b[0mread\u001b[0m\u001b[0;34m(\u001b[0m\u001b[0mself\u001b[0m\u001b[0;34m,\u001b[0m \u001b[0murl\u001b[0m\u001b[0;34m,\u001b[0m \u001b[0mdata\u001b[0m \u001b[0;34m=\u001b[0m \u001b[0mNone\u001b[0m\u001b[0;34m)\u001b[0m\u001b[0;34m:\u001b[0m\u001b[0;34m\u001b[0m\u001b[0m\n",
      "\u001b[0;32m/home/FILESERVER5/micklem/yy406/anaconda2/lib/python2.7/site-packages/intermine/results.pyc\u001b[0m in \u001b[0;36mhttp_error_400\u001b[0;34m(self, url, fp, errcode, errmsg, headers, data)\u001b[0m\n\u001b[1;32m    695\u001b[0m         \u001b[0;32mexcept\u001b[0m\u001b[0;34m:\u001b[0m\u001b[0;34m\u001b[0m\u001b[0m\n\u001b[1;32m    696\u001b[0m             \u001b[0mmessage\u001b[0m \u001b[0;34m=\u001b[0m \u001b[0mcontent\u001b[0m\u001b[0;34m\u001b[0m\u001b[0m\n\u001b[0;32m--> 697\u001b[0;31m         \u001b[0;32mraise\u001b[0m \u001b[0mWebserviceError\u001b[0m\u001b[0;34m(\u001b[0m\u001b[0;34m\"There was a problem with our request\"\u001b[0m\u001b[0;34m,\u001b[0m \u001b[0merrcode\u001b[0m\u001b[0;34m,\u001b[0m \u001b[0merrmsg\u001b[0m\u001b[0;34m,\u001b[0m \u001b[0mmessage\u001b[0m\u001b[0;34m)\u001b[0m\u001b[0;34m\u001b[0m\u001b[0m\n\u001b[0m\u001b[1;32m    698\u001b[0m \u001b[0;34m\u001b[0m\u001b[0m\n\u001b[1;32m    699\u001b[0m     \u001b[0;32mdef\u001b[0m \u001b[0mhttp_error_401\u001b[0m\u001b[0;34m(\u001b[0m\u001b[0mself\u001b[0m\u001b[0;34m,\u001b[0m \u001b[0murl\u001b[0m\u001b[0;34m,\u001b[0m \u001b[0mfp\u001b[0m\u001b[0;34m,\u001b[0m \u001b[0merrcode\u001b[0m\u001b[0;34m,\u001b[0m \u001b[0merrmsg\u001b[0m\u001b[0;34m,\u001b[0m \u001b[0mheaders\u001b[0m\u001b[0;34m,\u001b[0m \u001b[0mdata\u001b[0m\u001b[0;34m=\u001b[0m\u001b[0mNone\u001b[0m\u001b[0;34m)\u001b[0m\u001b[0;34m:\u001b[0m\u001b[0;34m\u001b[0m\u001b[0m\n",
      "\u001b[0;31mWebserviceError\u001b[0m: ('There was a problem with our request', 400, 'Bad Request', u\"Query does not pass XML validation. cvc-complex-type.3.2.2: Attribute 'path' is not allowed to appear in element 'pathDescription'.\\ncvc-complex-type.4: Attribute 'pathString' must appear on element 'pathDescription'.\\ncvc-complex-type.3.2.2: Attribute 'path' is not allowed to appear in element 'pathDescription'.\\ncvc-complex-type.4: Attribute 'pathString' must appear on element 'pathDescription'.\\n\")"
     ]
    }
   ],
   "source": [
    "for row in query.rows(size=10):\n",
    "    print(row)"
   ]
  },
  {
   "cell_type": "markdown",
   "metadata": {},
   "source": [
    "In the next tutorial we will look at dealing with the results that are generated. "
   ]
  }
 ],
 "metadata": {
  "anaconda-cloud": {},
  "kernelspec": {
   "display_name": "Python 2",
   "language": "python",
   "name": "python2"
  },
  "language_info": {
   "codemirror_mode": {
    "name": "ipython",
    "version": 2
   },
   "file_extension": ".py",
   "mimetype": "text/x-python",
   "name": "python",
   "nbconvert_exporter": "python",
   "pygments_lexer": "ipython2",
   "version": "2.7.14"
  }
 },
 "nbformat": 4,
 "nbformat_minor": 1
}
