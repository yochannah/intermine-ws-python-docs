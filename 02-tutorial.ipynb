{
 "cells": [
  {
   "cell_type": "markdown",
   "metadata": {},
   "source": [
    "# Intermine-Python: Tutorial 2: Adding Constraints to a Query"
   ]
  },
  {
   "cell_type": "markdown",
   "metadata": {},
   "source": [
    "This is the second tutorial in the Intermine-Python tutorial series. In the previous tutorial we learnt how to select the output columns as per our choice. Now, we will look at adding constraints to our queries to filter the results."
   ]
  },
  {
   "cell_type": "markdown",
   "metadata": {},
   "source": [
    "The first query that we will be looking at is to extract a list of all the Drosophilids in the database. We start with creating a service and query object as we had seen earlier. If we want to view all the possible output columns at once we can pass \"\\*\" as a parameter to the select function. This is Intermine's equivalent of SQL's SELECT *."
   ]
  },
  {
   "cell_type": "code",
   "execution_count": 4,
   "metadata": {},
   "outputs": [],
   "source": [
    "from intermine.webservice import Service"
   ]
  },
  {
   "cell_type": "code",
   "execution_count": 5,
   "metadata": {},
   "outputs": [],
   "source": [
    "service = Service(\"www.flymine.org/flymine/service\")\n",
    "query=service.new_query(\"Organism\") "
   ]
  },
  {
   "cell_type": "code",
   "execution_count": 3,
   "metadata": {},
   "outputs": [
    {
     "data": {
      "text/plain": [
       "<intermine.query.Query at 0x7f28b412d8d0>"
      ]
     },
     "execution_count": 3,
     "metadata": {},
     "output_type": "execute_result"
    }
   ],
   "source": [
    "#This time, we want to select all columns using a wildcard: The * character \n"
   ]
  },
  {
   "cell_type": "markdown",
   "metadata": {},
   "source": [
    "To add a constraint to our query, we can use the `add_constraint` method available in the `Query` class. "
   ]
  },
  {
   "cell_type": "code",
   "execution_count": 4,
   "metadata": {},
   "outputs": [
    {
     "data": {
      "text/plain": [
       "<BinaryConstraint: Organism.genus = Drosophila>"
      ]
     },
     "execution_count": 4,
     "metadata": {},
     "output_type": "execute_result"
    }
   ],
   "source": [
    "# syntax to add a constraint is query.add_constraint(field_name, operator, value)\n",
    "# Let's constrain the genus to be equal to Drosophila\n",
    "\n"
   ]
  },
  {
   "cell_type": "markdown",
   "metadata": {},
   "source": [
    "Now, we will print the results of our query. We will use the technique that we learnt in the first tutorial. You can also reduce the number of output columns by selecting only certain columns as we had seen in the first tutorial."
   ]
  },
  {
   "cell_type": "code",
   "execution_count": 5,
   "metadata": {},
   "outputs": [
    {
     "name": "stdout",
     "output_type": "stream",
     "text": [
      "Organism: commonName='fruit fly' genus='Drosophila' id=1000001 name='Drosophila melanogaster' shortName='D. melanogaster' species='melanogaster' taxonId=7227\n",
      "Organism: commonName=None genus='Drosophila' id=6000000 name='Drosophila pseudoobscura' shortName='D. pseudoobscura' species='pseudoobscura' taxonId=7237\n",
      "Organism: commonName=None genus='Drosophila' id=7000000 name='Drosophila simulans' shortName='D. simulans' species='simulans' taxonId=7240\n",
      "Organism: commonName=None genus='Drosophila' id=7000006 name='Drosophila erecta' shortName='D. erecta' species='erecta' taxonId=7220\n",
      "Organism: commonName=None genus='Drosophila' id=7000028 name='Drosophila virilis' shortName='D. virilis' species='virilis' taxonId=7244\n",
      "Organism: commonName=None genus='Drosophila' id=7000054 name='Drosophila yakuba' shortName='D. yakuba' species='yakuba' taxonId=7245\n",
      "Organism: commonName=None genus='Drosophila' id=7000083 name='Drosophila willistoni' shortName='D. willistoni' species='willistoni' taxonId=7260\n",
      "Organism: commonName=None genus='Drosophila' id=7000106 name='Drosophila ananassae' shortName='D. ananassae' species='ananassae' taxonId=7217\n",
      "Organism: commonName=None genus='Drosophila' id=7000118 name='Drosophila persimilis' shortName='D. persimilis' species='persimilis' taxonId=7234\n",
      "Organism: commonName=None genus='Drosophila' id=7000121 name='Drosophila sechellia' shortName='D. sechellia' species='sechellia' taxonId=7238\n",
      "Organism: commonName=None genus='Drosophila' id=7000126 name='Drosophila mojavensis' shortName='D. mojavensis' species='mojavensis' taxonId=7230\n",
      "Organism: commonName=None genus='Drosophila' id=7000774 name='Drosophila grimshawi' shortName='D. grimshawi' species='grimshawi' taxonId=7222\n"
     ]
    }
   ],
   "source": [
    "for row in query.rows():\n",
    "    print(row)"
   ]
  },
  {
   "cell_type": "markdown",
   "metadata": {},
   "source": [
    "We are now going to change the query a little bit. Let's say that we want to extract all the publication information about Droshophilids that have been published since 2010."
   ]
  },
  {
   "cell_type": "code",
   "execution_count": 6,
   "metadata": {
    "collapsed": true
   },
   "outputs": [],
   "source": [
    "# Initiate a new query with the root class set to \"Gene\"\n"
   ]
  },
  {
   "cell_type": "markdown",
   "metadata": {},
   "source": [
    "Since we want to extract all the information related to each publication pass \"publications.\\*\" as our parameter."
   ]
  },
  {
   "cell_type": "code",
   "execution_count": 7,
   "metadata": {},
   "outputs": [
    {
     "data": {
      "text/plain": [
       "<intermine.query.Query at 0x7f28b4146e10>"
      ]
     },
     "execution_count": 7,
     "metadata": {},
     "output_type": "execute_result"
    }
   ],
   "source": [
    "# Let's use the wildcard again, and select everything that's a child of publications.\n"
   ]
  },
  {
   "cell_type": "markdown",
   "metadata": {},
   "source": [
    "This is followed by adding the constraints. First we want to limit our search to only Drosophilds and secondly we want to extract only those publications that were published in or after the year 2010. "
   ]
  },
  {
   "cell_type": "code",
   "execution_count": 1,
   "metadata": {},
   "outputs": [],
   "source": [
    "# 1. Set the organism.genus to Drosophila \n",
    "\n",
    "# 2. Set publications.year to be greater than or equal to 2010\n"
   ]
  },
  {
   "cell_type": "code",
   "execution_count": 9,
   "metadata": {},
   "outputs": [
    {
     "name": "stdout",
     "output_type": "stream",
     "text": [
      "Gene: publications.abstractText='\"Bang-sensitive\"mutants of Drosophila display characteristic repertoires of distinct seizure-and-paralysis behaviors upon mechanical shock (Ganetzky &Wu, 1982, Genetics, 100, 597-614). The authors found that each of the bang-sensitive mutants described in this paper (bas, bss, eas, and tko) also displayed similar behavioral repertoires upon exposure to either high or low temperature. These repertoires are composed of interspersed periods of seizure and paralysis, and appear to have interesting parallels with vertebrate epileptiform behavior. Analysis of gynandromorph mosaics of these bang-sensitive mutant flies indicated that anatomical foci required for these two types of behaviors do not totally overlap, as they were separable among mosaic flies. Observations on mosaic and decapitated flies demonstrated an all-or-none expression of the seizure-and-paralysis behaviors, indicating global activity and long-range interactions in the nervous system. Therefore, the diverse collection of currently available Drosophila bang-sensitive mutants may serve as a rich source for mutational and cellular analysis to identify interacting molecular networks that are responsible for seizure phenotypes.' publications.doi='10.3109/01677063.2012.690011' publications.firstAuthor='Burg Martin G' publications.id=3053827 publications.issue='2' publications.journal='J. Neurogenet.' publications.month='Jun' publications.pages='189-97' publications.pubMedId='22716921' publications.title='Mechanical and temperature stressor-induced seizure-and-paralysis behaviors in Drosophila bang-sensitive mutants.' publications.volume='26' publications.year=2012\n",
      "Gene: publications.abstractText='\"Regulatory evolution,\"that is, changes in a gene\\'s expression pattern through changes at its regulatory sequence, rather than changes at thecoding sequence of the gene or changes of the upstream transcription factors, has been increasingly recognized as a pervasive evolution mechanism. Many somatic sexually dimorphic features of Drosophila melanogaster are the results of gene expression regulated by the doublesex (dsx) gene, which encodes sex-specific transcription factors (DSX(F) in females and DSX(M) in males). Rapid changes in such sexually dimorphic features are likely a result of changes at the regulatory sequence of the target genes. We focused on the Flavin-containing monooxygenase-2 (Fmo-2) gene, a likely direct dsx target, to elucidate how sexually dimorphic expression and its evolution are brought about. We found that dsx is deployed to regulate the Fmo-2 transcription both in the midgut and in fat body cells of the spermatheca (a female-specific tissue), through a canonical DSX-binding site in the Fmo-2 regulatory sequence. In the melanogaster group, Fmo-2 transcription in the midgut has evolved rapidly, in contrast to the conserved spermathecal transcription. We identified two cis-regulatory modules (CRM-p and CRM-d) that direct sexually monomorphic or dimorphic Fmo-2 transcription, respectively, in the midguts of these species. Changes of Fmo-2 transcription in the midgut from sexually dimorphic to sexually monomorphic in some species are caused by the loss of CRM-d function, but not the loss of the canonical DSX-binding site. Thus, conferring transcriptional regulation on a CRM level allows the regulation to evolve rapidly in one tissue while evading evolutionary constraints posed by other tissues.' publications.doi='10.1073/pnas.1501192112' publications.firstAuthor='Luo Shengzhan D' publications.id=1026760 publications.issue='8' publications.journal='Proc. Natl. Acad. Sci. U.S.A.' publications.month='Feb' publications.pages='E852-61' publications.pubMedId='25675536' publications.title=\"Constraints on the evolution of a doublesex target gene arising from doublesex's pleiotropic deployment.\" publications.volume='112' publications.year=2015\n",
      "Gene: publications.abstractText='(Macro)autophagy is a membrane-trafficking process that serves to sequester cellular constituents in organelles termed autophagosomes, which target their degradation in the lysosome. Autophagy operates at basal levels in all cells where it serves as a homeostatic mechanism to maintain cellular integrity. The levels and cargoes of autophagy can, however, change in response to a variety of stimuli, and perturbations in autophagy are known to be involved in the aetiology of various human diseases. Autophagy must therefore be tightly controlled. We report here that the Drosophila cyclin-dependent kinase PITSLRE is a modulator of autophagy. Loss of the human PITSLRE orthologue, CDK11, initially appears to induce autophagy, but at later time points CDK11 is critically required for autophagic flux and cargo digestion. Since PITSLRE/CDK11 regulates autophagy in both Drosophila and human cells, this kinase represents a novel phylogenetically conserved component of the autophagy machinery.' publications.doi='10.4161/auto.7.11.16646' publications.firstAuthor='Wilkinson Simon' publications.id=4754390 publications.issue='11' publications.journal='Autophagy' publications.month='Nov' publications.pages='1295-301' publications.pubMedId='21808150' publications.title='The cyclin-dependent kinase PITSLRE/CDK11 is required for successful autophagy.' publications.volume='7' publications.year=2011\n",
      "Gene: publications.abstractText='14-3-3 family proteins regulate multiple signalling pathways. Understanding biological functions of 14-3-3 proteins has been limited by the functional redundancy of conservedisotypes. Here we provide evidence that 14-3-3 proteins regulate two interacting components of Tor signalling in Drosophila, translationally controlled tumour protein (Tctp) and Rheb GTPase. Single knockdown of 14-3-3ɛ or 14-3-3ζ isoform does not show obvious defects in organ development but causes synergistic genetic interaction with Tctp and Rheb to impair tissue growth. 14-3-3 proteins physically interact with Tctp and Rheb. Knockdown of both 14-3-3 isoforms abolishes the binding between Tctp and Rheb, disrupting organ development. Depletion of 14-3-3s also reduces the level of phosphorylated S6 kinase, phosphorylated Thor/4E-BP and cyclin E (CycE). Growth defects from knockdown of 14-3-3 and Tctp are suppressed by CycE overexpression. This study suggests a novel mechanism of Tor regulation mediated by 14-3-3 interaction with Tctp and Rheb.' publications.doi='10.1038/ncomms11501' publications.firstAuthor='Le Thao Phuong' publications.id=1127855 publications.issue=None publications.journal='Nat Commun' publications.month='May' publications.pages='11501' publications.pubMedId='27151460' publications.title='14-3-3 proteins regulate Tctp-Rheb interaction for organ growth in Drosophila.' publications.volume='7' publications.year=2016\n",
      "Gene: publications.abstractText='20-hydroxyecdysone (20E) and juvenile hormone (JH) signaling pathways interact to regulate insect development. Recently, two proteins, a calponin-like Chd64 and immunophilin FKBP39 have been found to play a pivotal role in the cross-talk between 20E and JH, although the molecular basis of interaction remains unknown. The aim of this work was to identify the structural features that would provide understanding of the role of Chd64 in multiple and dynamic complex that cross-links the signaling pathways. Here, we demonstrate the results of in silico and in vitro analyses of the structural organization of Chd64 from Drosophila melanogaster and its homologue from Tribolium castaneum. Computational analysis predicted the existence of disordered regions on the termini of both proteins, while the central region appeared to be globular, probably corresponding to the calponin homology (CH) domain. In vitro analyses of the hydrodynamic properties of the proteins from analytical size-exclusion chromatography and analytical ultracentrifugation revealed that DmChd64 and TcChd64 had an asymmetrical, elongated shape, which was further confirmed by small angle X-ray scattering (SAXS). The Kratky plot indicated disorderness in both Chd64 proteins, which could possibly be on the protein termini and which would give rise to specific hydrodynamic properties. Disordered tails are often involved in diverse interactions. Therefore, it is highly possible that there are intrinsically disordered regions (IDRs) on both termini of the Chd64 proteins that serve as platforms for multiple interaction with various partners and constitute the foundation for their regulatory function.' publications.doi='10.1371/journal.pone.0096809' publications.firstAuthor='Kozłowska Małgorzata' publications.id=4804711 publications.issue='5' publications.journal='PLoS ONE' publications.month=None publications.pages='e96809' publications.pubMedId='24805353' publications.title='Calponin-like Chd64 is partly disordered.' publications.volume='9' publications.year=2014\n",
      "Gene: publications.abstractText=\"3'-End cleavage of animal replication-dependent histone pre-mRNAs is controlled by the U7 snRNP. Lsm11, the largest component of the U7-specific Sm ring, interacts with FLASH, and in mammalian nuclear extracts these two proteins form a platform that recruits the CPSF73 endonuclease and other polyadenylation factors to the U7 snRNP. FLASH is limiting, and the majority of the U7 snRNP in mammalian extracts exists as a core particle consisting of the U7 snRNA and the Sm ring. Here, we purified the U7 snRNP from Drosophila nuclear extracts and characterized its composition by mass spectrometry. In contrast to the mammalian U7 snRNP, a significant fraction of the Drosophila U7 snRNP contains endogenous FLASH and at least six subunits of the polyadenylation machinery: symplekin, CPSF73, CPSF100, CPSF160, WDR33, and CstF64. The same composite U7 snRNP is recruited to histone pre-mRNA for 3'-end processing. We identified a motif in Drosophila FLASH that is essential for the recruitment of the polyadenylation complex to the U7 snRNP and analyzed the role of other factors, including SLBP and Ars2, in 3'-end processing of Drosophila histone pre-mRNAs. SLBP that binds the upstream stem-loop structure likely recruits a yet-unidentified essential component(s) to the processing machinery. In contrast, Ars2, a protein previously shown to interact with FLASH in mammalian cells, is dispensable for processing in Drosophila. Our studies also demonstrate that Drosophila symplekin and three factors involved in cleavage and polyadenylation-CPSF, CstF, and CF Im-are present in Drosophila nuclear extracts in a stable supercomplex.\" publications.doi='10.1261/rna.040360.113' publications.firstAuthor='Sabath Ivan' publications.id=1013363 publications.issue='12' publications.journal='RNA' publications.month='Dec' publications.pages='1726-44' publications.pubMedId='24145821' publications.title=\"3'-End processing of histone pre-mRNAs in Drosophila: U7 snRNP is associated with FLASH and polyadenylation factors.\" publications.volume='19' publications.year=2013\n",
      "Gene: publications.abstractText='3,4-Dihydroxyphenylalanine decarboxylase (DDC), also known as aromatic L-amino acid decarboxylase, catalyzes the decarboxylation of a number of aromatic L-amino acids. Physiologically, DDC is responsible for the production of dopamine and serotonin through the decarboxylation of 3,4-dihydroxyphenylalanine and 5-hydroxytryptophan, respectively. In insects, both dopamine and serotonin serve as classical neurotransmitters, neuromodulators, or neurohormones, and dopamine is also involved in insect cuticle formation, eggshell hardening, and immune responses. In this study, we expressed a typical DDC enzyme from Drosophila melanogaster, critically analyzed its substrate specificity and biochemical properties, determined its crystal structure at 1.75 Angstrom resolution, and evaluated the roles residues T82 and H192 play in substrate binding and enzyme catalysis through site-directed mutagenesis of the enzyme. Our results establish that this DDC functions exclusively on the production of dopamine and serotonin, with no activity to tyrosine or tryptophan and catalyzes the formation of serotonin more efficiently than dopamine. The crystal structure of Drosophila DDC and the site-directed mutagenesis study of the enzyme demonstrate that T82 is involved in substrate binding and that H192 is used not only for substrate interaction, but for cofactor binding of drDDC as well. Through comparative analysis, the results also provide insight into the structure-function relationship of other insect DDC-like proteins.' publications.doi='10.1371/journal.pone.0008826' publications.firstAuthor='Han Qian' publications.id=4606190 publications.issue='1' publications.journal='PLoS ONE' publications.month=None publications.pages='e8826' publications.pubMedId='20098687' publications.title='Crystal structure and substrate specificity of Drosophila 3,4-dihydroxyphenylalanine decarboxylase.' publications.volume='5' publications.year=2010\n",
      "Gene: publications.abstractText=\"4,4'-dichlorodiphenyltrichloroethane (DDT) has been re-recommended by the World Health Organization for malaria mosquito control. Previous DDT use has resulted in resistance, and with continued use resistance will increase in terms of level and extent. Drosophila melanogaster is a model dipteran that has many available genetic tools, numerous studies done on insecticide resistance mechanisms, and is related to malaria mosquitoes allowing for extrapolation. The 91-R strain of D.\\xa0melanogaster is highly resistant to DDT (>1500-fold), however, there is no mechanistic scheme that accounts for this level of resistance. Recently, reduced penetration, increased detoxification, and direct excretion have been identified as resistance mechanisms in the 91-R strain. Their interactions, however, remain unclear. Use of UAS-RNAi transgenic lines of D.\\xa0melanogaster allowed for the targeted knockdown of genes putatively involved in DDT resistance and has validated the role of several cuticular proteins (Cyp4g1 and Lcp1), cytochrome P450 monooxygenases (Cyp6g1 and Cyp12d1), and ATP binding cassette transporters (Mdr50, Mdr65, and Mrp1) involved in DDT resistance. Further, increased sensitivity to DDT in the 91-R strain after intra-abdominal dsRNA injection for Mdr50, Mdr65, and Mrp1 was determined by a DDT contact bioassay, directly implicating these genes in DDT efflux and resistance.\" publications.doi='10.1016/j.pestbp.2015.01.001' publications.firstAuthor='Gellatly Kyle J' publications.id=1155650 publications.issue=None publications.journal='Pestic Biochem Physiol' publications.month='Jun' publications.pages='107-15' publications.pubMedId='26047118' publications.title='RNAi validation of resistance genes and their interactions in the highly DDT-resistant 91-R strain of Drosophila melanogaster.' publications.volume='121' publications.year=2015\n",
      "Gene: publications.abstractText='4-Vinylcyclohexene (VCH) is a dimer of 1,3-butadiene produced as a by-product of pesticides, plastic, rubber, flame retardants, and tire production. Although, several studies have reported the ovotoxicity of VCH, information on a possible involvement of oxidative stress in the toxicity of this occupational chemical is scarce. Hence, this study was carried out to investigate further possible mechanisms of toxicity of VCH with a specific emphasis on oxidative stress using a Drosophila melanogaster model. D. melanogaster (both genders) of 1 to 3 days old were exposed to different concentrations of VCH (10 µM-1 mM) in the diet for 5 days. Subsequently, the survival and negative geotaxis assays and the quantification of reactive oxygen species (ROS) generation were determined. In addition, we evaluated RT-PCR expressions of selected oxidative stress and antioxidant mRNA genes (HSP27, 70, and 83, SOD, Nrf-2, MAPK2, and catalase). Furthermore, catalase, glutathione-S-transferase (GST), delta aminolevulinic acid dehydratase (δ-ALA-D), and acetylcholinesterase (AChE) activities were determined. VCH exposure impaired negative geotaxic behavior and induced the mRNA of SOD, Nrf-2, and MAPK2 genes expressions. There were increases in catalase and ROS production, as well as inhibitions of GST, δ-ALA-D, and AChE activities (P<0.05). Our results suggest that the VCH mechanism of toxicity is associated with oxidative damage, as evidenced by the alteration in the oxidative stress-antioxidant balance, and possible neurotoxic consequences due to decreased AChE activity, and impairments in negative geotaxic behavior. Thus, we conclude that D. melanogaster is a useful model for investigating the toxicity of VCH exposure, and here, we have provided further insights on the mechanism of VCH-induced toxicity.' publications.doi='10.1016/j.freeradbiomed.2014.03.014' publications.firstAuthor='Abolaji Amos Olalekan' publications.id=1164844 publications.issue=None publications.journal='Free Radic. Biol. Med.' publications.month='Jun' publications.pages='99-108' publications.pubMedId='24681254' publications.title='Involvement of oxidative stress in 4-vinylcyclohexene-induced toxicity in Drosophila melanogaster.' publications.volume='71' publications.year=2014\n",
      "Gene: publications.abstractText=\"5'-nucleotidases catalyze the hydrolytic dephosphorylation of nucleoside monophosphates. As catabolic enzymes they contribute significantly to the regulation of cellular nucleotide levels; misregulation of nucleotide metabolism and nucleotidase deficiencies are associated with a number of diseases. The seven human 5'-nucleotidases differ with respect to substrate specificity and cellular localization. Recently, the novel cytosolic 5'-nucleotidase III-like protein, or cN-IIIB, has been characterized in human and Drosophila. cN-IIIB exhibits a strong substrate preference for the modified nucleotide 7-methylguanosine monophosphate but the structural reason for this preference was unknown. Here, we present crystal structures of cN-IIIB from Drosophila melanogaster bound to the reaction products 7-methylguanosine or cytidine. The structural data reveal that the cytosine- and 7-methylguanine moieties of the products are stacked between two aromatic residues in a coplanar but off-centered position. 7-methylguanosine is specifically bound through π-π interactions and distinguished from unmodified guanosine by additional cation-π coulomb interactions between the aromatic side chains and the positively charged 7-methylguanine. Notably, the base is further stabilized by T-shaped edge-to-face stacking of an additional tryptophan packing perpendicularly against the purine ring and forming, together with the other aromates, an aromatic slot. The structural data in combination with site-directed mutagenesis experiments reveal the molecular basis for the broad substrate specificity of cN-IIIB but also explain the substrate preference for 7-methylguanosine monophosphate. Analyzing the substrate specificities of cN-IIIB and the main pyrimidine 5'-nucleotidase cN-IIIA by mutagenesis studies, we show that cN-IIIA dephosphorylates the purine m7GMP as well, hence redefining its substrate spectrum. Docking calculations with cN-IIIA and m7GMP as well as biochemical data reveal that Asn69 does not generally exclude the turnover of purine substrates thus correcting previous suggestions.\" publications.doi='10.1371/journal.pone.0090915' publications.firstAuthor='Monecke Thomas' publications.id=1988552 publications.issue='3' publications.journal='PLoS ONE' publications.month=None publications.pages='e90915' publications.pubMedId='24603684' publications.title=\"Crystal structures of the novel cytosolic 5'-nucleotidase IIIB explain its preference for m7GMP.\" publications.volume='9' publications.year=2014\n"
     ]
    }
   ],
   "source": [
    "for row in query2.rows(size=10):\n",
    "    print(row)"
   ]
  },
  {
   "cell_type": "markdown",
   "metadata": {},
   "source": [
    "### Operators\n",
    "\n",
    "The `add_constraint` method is an Intermine-y way of querying the database. It comprises of three parts: \n",
    "<br/>\n",
    "**path**: The path refers to to the attribute that we want to constrain\n",
    "<br/>\n",
    "**op or operator**: Defines how to constrain the path\n",
    "<br/>\n",
    "**value**: The value to be applied on the operator\n",
    "<br/>\n",
    "<br/>\n",
    "Some common operators are `=`, `>`, `<`, `ONE OF`, `NONE OF`, `CONTAINS` etc."
   ]
  },
  {
   "cell_type": "markdown",
   "metadata": {
    "collapsed": true
   },
   "source": [
    "Now, we will take a look at another query. "
   ]
  },
  {
   "cell_type": "code",
   "execution_count": 7,
   "metadata": {},
   "outputs": [],
   "source": [
    "query3=service.new_query(\"Gene\")"
   ]
  },
  {
   "cell_type": "code",
   "execution_count": 8,
   "metadata": {},
   "outputs": [
    {
     "data": {
      "text/plain": [
       "<MultiConstraint: Gene.organism.species ONE OF ['melanogaster', 'mojavensis']>"
      ]
     },
     "execution_count": 8,
     "metadata": {},
     "output_type": "execute_result"
    }
   ],
   "source": [
    "query3.add_constraint(\"organism.genus\",\"=\",\"Drosophila\")\n",
    "\n",
    "# Let's set the organism.species to be either \"melanogaster\" or \"mojavensis\"\n",
    "# in this case, we'll want the operator \"ONE OF\", and multiple value sets can be passed\n",
    "# as a list, e.g. [\"value1\", \"value2\"]\n",
    "\n"
   ]
  },
  {
   "cell_type": "markdown",
   "metadata": {},
   "source": [
    "Note that if we don't select a view, it returns all views for gene by default"
   ]
  },
  {
   "cell_type": "code",
   "execution_count": 9,
   "metadata": {
    "scrolled": true
   },
   "outputs": [
    {
     "name": "stdout",
     "output_type": "stream",
     "text": [
      "Gene: briefDescription=None cytoLocation=u'-' description=None id=1000277 length=12653 name=u'zydeco' primaryIdentifier=u'FBgn0265767' score=None scoreType=None secondaryIdentifier=u'CG2893' symbol=u'zyd'\n",
      "Gene: briefDescription=None cytoLocation=u'-' description=None id=1004680 length=1951 name=None primaryIdentifier=u'FBgn0039942' score=None scoreType=None secondaryIdentifier=u'CG17163' symbol=u'CG17163'\n",
      "Gene: briefDescription=None cytoLocation=u'-' description=None id=1005942 length=12892 name=u'Rho GTPase activating protein at 1A' primaryIdentifier=u'FBgn0025836' score=None scoreType=None secondaryIdentifier=u'CG40494' symbol=u'RhoGAP1A'\n",
      "Gene: briefDescription=None cytoLocation=u'-' description=None id=1007541 length=21475 name=u'verthandi' primaryIdentifier=u'FBgn0260987' score=None scoreType=None secondaryIdentifier=u'CG17436' symbol=u'vtd'\n",
      "Gene: briefDescription=None cytoLocation=u'-' description=None id=1008898 length=1340 name=u'mitochondrial NADH-ubiquinone oxidoreductase chain 4' primaryIdentifier=u'FBgn0262952' score=None scoreType=None secondaryIdentifier=u'CG34085' symbol=u'mt:ND4'\n",
      "Gene: briefDescription=None cytoLocation=u'-' description=None id=1015515 length=14286 name=u'Maf1' primaryIdentifier=u'FBgn0267861' score=None scoreType=None secondaryIdentifier=u'CG40196' symbol=u'Maf1'\n",
      "Gene: briefDescription=None cytoLocation=u'-' description=None id=1018973 length=12844 name=None primaryIdentifier=u'FBgn0039941' score=None scoreType=None secondaryIdentifier=u'CG17167' symbol=u'CG17167'\n",
      "Gene: briefDescription=None cytoLocation=u'-' description=None id=1019068 length=11613 name=None primaryIdentifier=u'FBgn0040031' score=None scoreType=None secondaryIdentifier=u'CG12061' symbol=u'CG12061'\n",
      "Gene: briefDescription=None cytoLocation=u'-' description=None id=1019306 length=45356 name=None primaryIdentifier=u'FBgn0039959' score=None scoreType=None secondaryIdentifier=u'CG17514' symbol=u'CG17514'\n",
      "Gene: briefDescription=None cytoLocation=u'-' description=None id=1019587 length=21673 name=None primaryIdentifier=u'FBgn0039955' score=None scoreType=None secondaryIdentifier=u'CG41099' symbol=u'CG41099'\n"
     ]
    }
   ],
   "source": [
    "for row in query3.rows(size=10):\n",
    "    print(row)"
   ]
  },
  {
   "cell_type": "markdown",
   "metadata": {},
   "source": [
    "### Query Logic"
   ]
  },
  {
   "cell_type": "markdown",
   "metadata": {},
   "source": [
    "When querying the database using consecutive `add_constraint` methods, by default the constraints are `and`ed together, i.e. a particular instance will be part of the final result only if it satisfies *all* the constraints. However, we have the option to `or` the constraints as well. We can use the `set_logic` method to do the same. "
   ]
  },
  {
   "cell_type": "markdown",
   "metadata": {},
   "source": [
    "We will now look at an example for the same. "
   ]
  },
  {
   "cell_type": "code",
   "execution_count": 13,
   "metadata": {
    "collapsed": true
   },
   "outputs": [],
   "source": [
    "query4=service.new_query(\"Gene\")"
   ]
  },
  {
   "cell_type": "code",
   "execution_count": 14,
   "metadata": {},
   "outputs": [
    {
     "data": {
      "text/plain": [
       "<intermine.query.Query at 0x7f28b40fb470>"
      ]
     },
     "execution_count": 14,
     "metadata": {},
     "output_type": "execute_result"
    }
   ],
   "source": [
    "query4.select(\"publications.*\")"
   ]
  },
  {
   "cell_type": "code",
   "execution_count": 15,
   "metadata": {},
   "outputs": [
    {
     "data": {
      "text/plain": [
       "<BinaryConstraint: Gene.publications.year >= 2010>"
      ]
     },
     "execution_count": 15,
     "metadata": {},
     "output_type": "execute_result"
    }
   ],
   "source": [
    "query4.add_constraint(\"organism.genus\",\"=\",\"Drosophila\") #A\n",
    "query4.add_constraint(\"organism.species\",\"=\",\"yakuba\") #B\n",
    "query4.add_constraint(\"organism.species\",\"=\",\"melanogaster\") #C\n",
    "query4.add_constraint(\"publications.year\",\">=\",\"2010\") #D"
   ]
  },
  {
   "cell_type": "markdown",
   "metadata": {},
   "source": [
    "You can use the `query.set_logic()` method here. \n",
    "\n",
    " - To select A **and** B, type either `(A and B)` or `(A & B)`.\n",
    " - **OR** is similar - `(A or B)` or `(A | B)`. \n",
    " - Use parenthesis to group statements, e.g. `(A and (B or C))`"
   ]
  },
  {
   "cell_type": "code",
   "execution_count": 16,
   "metadata": {},
   "outputs": [
    {
     "data": {
      "text/plain": [
       "<intermine.query.Query at 0x7f28b40fb470>"
      ]
     },
     "execution_count": 16,
     "metadata": {},
     "output_type": "execute_result"
    }
   ],
   "source": [
    "# Given the constraints above, type a statement that requires:\n",
    "# - Genus must be \"Drosophila\" (constraint A) and\n",
    "# - Species must be either \"yakuba\" (constraint B) or \"melanogaster\" (constraint C) and\n",
    "# - Publication year greater than or equal to 2010 (constraint D)\n",
    "\n"
   ]
  },
  {
   "cell_type": "code",
   "execution_count": 17,
   "metadata": {},
   "outputs": [
    {
     "name": "stdout",
     "output_type": "stream",
     "text": [
      "Gene: publications.abstractText='\"Bang-sensitive\"mutants of Drosophila display characteristic repertoires of distinct seizure-and-paralysis behaviors upon mechanical shock (Ganetzky &Wu, 1982, Genetics, 100, 597-614). The authors found that each of the bang-sensitive mutants described in this paper (bas, bss, eas, and tko) also displayed similar behavioral repertoires upon exposure to either high or low temperature. These repertoires are composed of interspersed periods of seizure and paralysis, and appear to have interesting parallels with vertebrate epileptiform behavior. Analysis of gynandromorph mosaics of these bang-sensitive mutant flies indicated that anatomical foci required for these two types of behaviors do not totally overlap, as they were separable among mosaic flies. Observations on mosaic and decapitated flies demonstrated an all-or-none expression of the seizure-and-paralysis behaviors, indicating global activity and long-range interactions in the nervous system. Therefore, the diverse collection of currently available Drosophila bang-sensitive mutants may serve as a rich source for mutational and cellular analysis to identify interacting molecular networks that are responsible for seizure phenotypes.' publications.doi='10.3109/01677063.2012.690011' publications.firstAuthor='Burg Martin G' publications.id=3053827 publications.issue='2' publications.journal='J. Neurogenet.' publications.month='Jun' publications.pages='189-97' publications.pubMedId='22716921' publications.title='Mechanical and temperature stressor-induced seizure-and-paralysis behaviors in Drosophila bang-sensitive mutants.' publications.volume='26' publications.year=2012\n",
      "Gene: publications.abstractText='\"Regulatory evolution,\"that is, changes in a gene\\'s expression pattern through changes at its regulatory sequence, rather than changes at thecoding sequence of the gene or changes of the upstream transcription factors, has been increasingly recognized as a pervasive evolution mechanism. Many somatic sexually dimorphic features of Drosophila melanogaster are the results of gene expression regulated by the doublesex (dsx) gene, which encodes sex-specific transcription factors (DSX(F) in females and DSX(M) in males). Rapid changes in such sexually dimorphic features are likely a result of changes at the regulatory sequence of the target genes. We focused on the Flavin-containing monooxygenase-2 (Fmo-2) gene, a likely direct dsx target, to elucidate how sexually dimorphic expression and its evolution are brought about. We found that dsx is deployed to regulate the Fmo-2 transcription both in the midgut and in fat body cells of the spermatheca (a female-specific tissue), through a canonical DSX-binding site in the Fmo-2 regulatory sequence. In the melanogaster group, Fmo-2 transcription in the midgut has evolved rapidly, in contrast to the conserved spermathecal transcription. We identified two cis-regulatory modules (CRM-p and CRM-d) that direct sexually monomorphic or dimorphic Fmo-2 transcription, respectively, in the midguts of these species. Changes of Fmo-2 transcription in the midgut from sexually dimorphic to sexually monomorphic in some species are caused by the loss of CRM-d function, but not the loss of the canonical DSX-binding site. Thus, conferring transcriptional regulation on a CRM level allows the regulation to evolve rapidly in one tissue while evading evolutionary constraints posed by other tissues.' publications.doi='10.1073/pnas.1501192112' publications.firstAuthor='Luo Shengzhan D' publications.id=1026760 publications.issue='8' publications.journal='Proc. Natl. Acad. Sci. U.S.A.' publications.month='Feb' publications.pages='E852-61' publications.pubMedId='25675536' publications.title=\"Constraints on the evolution of a doublesex target gene arising from doublesex's pleiotropic deployment.\" publications.volume='112' publications.year=2015\n",
      "Gene: publications.abstractText='(Macro)autophagy is a membrane-trafficking process that serves to sequester cellular constituents in organelles termed autophagosomes, which target their degradation in the lysosome. Autophagy operates at basal levels in all cells where it serves as a homeostatic mechanism to maintain cellular integrity. The levels and cargoes of autophagy can, however, change in response to a variety of stimuli, and perturbations in autophagy are known to be involved in the aetiology of various human diseases. Autophagy must therefore be tightly controlled. We report here that the Drosophila cyclin-dependent kinase PITSLRE is a modulator of autophagy. Loss of the human PITSLRE orthologue, CDK11, initially appears to induce autophagy, but at later time points CDK11 is critically required for autophagic flux and cargo digestion. Since PITSLRE/CDK11 regulates autophagy in both Drosophila and human cells, this kinase represents a novel phylogenetically conserved component of the autophagy machinery.' publications.doi='10.4161/auto.7.11.16646' publications.firstAuthor='Wilkinson Simon' publications.id=4754390 publications.issue='11' publications.journal='Autophagy' publications.month='Nov' publications.pages='1295-301' publications.pubMedId='21808150' publications.title='The cyclin-dependent kinase PITSLRE/CDK11 is required for successful autophagy.' publications.volume='7' publications.year=2011\n",
      "Gene: publications.abstractText='14-3-3 family proteins regulate multiple signalling pathways. Understanding biological functions of 14-3-3 proteins has been limited by the functional redundancy of conservedisotypes. Here we provide evidence that 14-3-3 proteins regulate two interacting components of Tor signalling in Drosophila, translationally controlled tumour protein (Tctp) and Rheb GTPase. Single knockdown of 14-3-3ɛ or 14-3-3ζ isoform does not show obvious defects in organ development but causes synergistic genetic interaction with Tctp and Rheb to impair tissue growth. 14-3-3 proteins physically interact with Tctp and Rheb. Knockdown of both 14-3-3 isoforms abolishes the binding between Tctp and Rheb, disrupting organ development. Depletion of 14-3-3s also reduces the level of phosphorylated S6 kinase, phosphorylated Thor/4E-BP and cyclin E (CycE). Growth defects from knockdown of 14-3-3 and Tctp are suppressed by CycE overexpression. This study suggests a novel mechanism of Tor regulation mediated by 14-3-3 interaction with Tctp and Rheb.' publications.doi='10.1038/ncomms11501' publications.firstAuthor='Le Thao Phuong' publications.id=1127855 publications.issue=None publications.journal='Nat Commun' publications.month='May' publications.pages='11501' publications.pubMedId='27151460' publications.title='14-3-3 proteins regulate Tctp-Rheb interaction for organ growth in Drosophila.' publications.volume='7' publications.year=2016\n",
      "Gene: publications.abstractText='20-hydroxyecdysone (20E) and juvenile hormone (JH) signaling pathways interact to regulate insect development. Recently, two proteins, a calponin-like Chd64 and immunophilin FKBP39 have been found to play a pivotal role in the cross-talk between 20E and JH, although the molecular basis of interaction remains unknown. The aim of this work was to identify the structural features that would provide understanding of the role of Chd64 in multiple and dynamic complex that cross-links the signaling pathways. Here, we demonstrate the results of in silico and in vitro analyses of the structural organization of Chd64 from Drosophila melanogaster and its homologue from Tribolium castaneum. Computational analysis predicted the existence of disordered regions on the termini of both proteins, while the central region appeared to be globular, probably corresponding to the calponin homology (CH) domain. In vitro analyses of the hydrodynamic properties of the proteins from analytical size-exclusion chromatography and analytical ultracentrifugation revealed that DmChd64 and TcChd64 had an asymmetrical, elongated shape, which was further confirmed by small angle X-ray scattering (SAXS). The Kratky plot indicated disorderness in both Chd64 proteins, which could possibly be on the protein termini and which would give rise to specific hydrodynamic properties. Disordered tails are often involved in diverse interactions. Therefore, it is highly possible that there are intrinsically disordered regions (IDRs) on both termini of the Chd64 proteins that serve as platforms for multiple interaction with various partners and constitute the foundation for their regulatory function.' publications.doi='10.1371/journal.pone.0096809' publications.firstAuthor='Kozłowska Małgorzata' publications.id=4804711 publications.issue='5' publications.journal='PLoS ONE' publications.month=None publications.pages='e96809' publications.pubMedId='24805353' publications.title='Calponin-like Chd64 is partly disordered.' publications.volume='9' publications.year=2014\n",
      "Gene: publications.abstractText=\"3'-End cleavage of animal replication-dependent histone pre-mRNAs is controlled by the U7 snRNP. Lsm11, the largest component of the U7-specific Sm ring, interacts with FLASH, and in mammalian nuclear extracts these two proteins form a platform that recruits the CPSF73 endonuclease and other polyadenylation factors to the U7 snRNP. FLASH is limiting, and the majority of the U7 snRNP in mammalian extracts exists as a core particle consisting of the U7 snRNA and the Sm ring. Here, we purified the U7 snRNP from Drosophila nuclear extracts and characterized its composition by mass spectrometry. In contrast to the mammalian U7 snRNP, a significant fraction of the Drosophila U7 snRNP contains endogenous FLASH and at least six subunits of the polyadenylation machinery: symplekin, CPSF73, CPSF100, CPSF160, WDR33, and CstF64. The same composite U7 snRNP is recruited to histone pre-mRNA for 3'-end processing. We identified a motif in Drosophila FLASH that is essential for the recruitment of the polyadenylation complex to the U7 snRNP and analyzed the role of other factors, including SLBP and Ars2, in 3'-end processing of Drosophila histone pre-mRNAs. SLBP that binds the upstream stem-loop structure likely recruits a yet-unidentified essential component(s) to the processing machinery. In contrast, Ars2, a protein previously shown to interact with FLASH in mammalian cells, is dispensable for processing in Drosophila. Our studies also demonstrate that Drosophila symplekin and three factors involved in cleavage and polyadenylation-CPSF, CstF, and CF Im-are present in Drosophila nuclear extracts in a stable supercomplex.\" publications.doi='10.1261/rna.040360.113' publications.firstAuthor='Sabath Ivan' publications.id=1013363 publications.issue='12' publications.journal='RNA' publications.month='Dec' publications.pages='1726-44' publications.pubMedId='24145821' publications.title=\"3'-End processing of histone pre-mRNAs in Drosophila: U7 snRNP is associated with FLASH and polyadenylation factors.\" publications.volume='19' publications.year=2013\n",
      "Gene: publications.abstractText='3,4-Dihydroxyphenylalanine decarboxylase (DDC), also known as aromatic L-amino acid decarboxylase, catalyzes the decarboxylation of a number of aromatic L-amino acids. Physiologically, DDC is responsible for the production of dopamine and serotonin through the decarboxylation of 3,4-dihydroxyphenylalanine and 5-hydroxytryptophan, respectively. In insects, both dopamine and serotonin serve as classical neurotransmitters, neuromodulators, or neurohormones, and dopamine is also involved in insect cuticle formation, eggshell hardening, and immune responses. In this study, we expressed a typical DDC enzyme from Drosophila melanogaster, critically analyzed its substrate specificity and biochemical properties, determined its crystal structure at 1.75 Angstrom resolution, and evaluated the roles residues T82 and H192 play in substrate binding and enzyme catalysis through site-directed mutagenesis of the enzyme. Our results establish that this DDC functions exclusively on the production of dopamine and serotonin, with no activity to tyrosine or tryptophan and catalyzes the formation of serotonin more efficiently than dopamine. The crystal structure of Drosophila DDC and the site-directed mutagenesis study of the enzyme demonstrate that T82 is involved in substrate binding and that H192 is used not only for substrate interaction, but for cofactor binding of drDDC as well. Through comparative analysis, the results also provide insight into the structure-function relationship of other insect DDC-like proteins.' publications.doi='10.1371/journal.pone.0008826' publications.firstAuthor='Han Qian' publications.id=4606190 publications.issue='1' publications.journal='PLoS ONE' publications.month=None publications.pages='e8826' publications.pubMedId='20098687' publications.title='Crystal structure and substrate specificity of Drosophila 3,4-dihydroxyphenylalanine decarboxylase.' publications.volume='5' publications.year=2010\n",
      "Gene: publications.abstractText=\"4,4'-dichlorodiphenyltrichloroethane (DDT) has been re-recommended by the World Health Organization for malaria mosquito control. Previous DDT use has resulted in resistance, and with continued use resistance will increase in terms of level and extent. Drosophila melanogaster is a model dipteran that has many available genetic tools, numerous studies done on insecticide resistance mechanisms, and is related to malaria mosquitoes allowing for extrapolation. The 91-R strain of D.\\xa0melanogaster is highly resistant to DDT (>1500-fold), however, there is no mechanistic scheme that accounts for this level of resistance. Recently, reduced penetration, increased detoxification, and direct excretion have been identified as resistance mechanisms in the 91-R strain. Their interactions, however, remain unclear. Use of UAS-RNAi transgenic lines of D.\\xa0melanogaster allowed for the targeted knockdown of genes putatively involved in DDT resistance and has validated the role of several cuticular proteins (Cyp4g1 and Lcp1), cytochrome P450 monooxygenases (Cyp6g1 and Cyp12d1), and ATP binding cassette transporters (Mdr50, Mdr65, and Mrp1) involved in DDT resistance. Further, increased sensitivity to DDT in the 91-R strain after intra-abdominal dsRNA injection for Mdr50, Mdr65, and Mrp1 was determined by a DDT contact bioassay, directly implicating these genes in DDT efflux and resistance.\" publications.doi='10.1016/j.pestbp.2015.01.001' publications.firstAuthor='Gellatly Kyle J' publications.id=1155650 publications.issue=None publications.journal='Pestic Biochem Physiol' publications.month='Jun' publications.pages='107-15' publications.pubMedId='26047118' publications.title='RNAi validation of resistance genes and their interactions in the highly DDT-resistant 91-R strain of Drosophila melanogaster.' publications.volume='121' publications.year=2015\n",
      "Gene: publications.abstractText='4-Vinylcyclohexene (VCH) is a dimer of 1,3-butadiene produced as a by-product of pesticides, plastic, rubber, flame retardants, and tire production. Although, several studies have reported the ovotoxicity of VCH, information on a possible involvement of oxidative stress in the toxicity of this occupational chemical is scarce. Hence, this study was carried out to investigate further possible mechanisms of toxicity of VCH with a specific emphasis on oxidative stress using a Drosophila melanogaster model. D. melanogaster (both genders) of 1 to 3 days old were exposed to different concentrations of VCH (10 µM-1 mM) in the diet for 5 days. Subsequently, the survival and negative geotaxis assays and the quantification of reactive oxygen species (ROS) generation were determined. In addition, we evaluated RT-PCR expressions of selected oxidative stress and antioxidant mRNA genes (HSP27, 70, and 83, SOD, Nrf-2, MAPK2, and catalase). Furthermore, catalase, glutathione-S-transferase (GST), delta aminolevulinic acid dehydratase (δ-ALA-D), and acetylcholinesterase (AChE) activities were determined. VCH exposure impaired negative geotaxic behavior and induced the mRNA of SOD, Nrf-2, and MAPK2 genes expressions. There were increases in catalase and ROS production, as well as inhibitions of GST, δ-ALA-D, and AChE activities (P<0.05). Our results suggest that the VCH mechanism of toxicity is associated with oxidative damage, as evidenced by the alteration in the oxidative stress-antioxidant balance, and possible neurotoxic consequences due to decreased AChE activity, and impairments in negative geotaxic behavior. Thus, we conclude that D. melanogaster is a useful model for investigating the toxicity of VCH exposure, and here, we have provided further insights on the mechanism of VCH-induced toxicity.' publications.doi='10.1016/j.freeradbiomed.2014.03.014' publications.firstAuthor='Abolaji Amos Olalekan' publications.id=1164844 publications.issue=None publications.journal='Free Radic. Biol. Med.' publications.month='Jun' publications.pages='99-108' publications.pubMedId='24681254' publications.title='Involvement of oxidative stress in 4-vinylcyclohexene-induced toxicity in Drosophila melanogaster.' publications.volume='71' publications.year=2014\n",
      "Gene: publications.abstractText=\"5'-nucleotidases catalyze the hydrolytic dephosphorylation of nucleoside monophosphates. As catabolic enzymes they contribute significantly to the regulation of cellular nucleotide levels; misregulation of nucleotide metabolism and nucleotidase deficiencies are associated with a number of diseases. The seven human 5'-nucleotidases differ with respect to substrate specificity and cellular localization. Recently, the novel cytosolic 5'-nucleotidase III-like protein, or cN-IIIB, has been characterized in human and Drosophila. cN-IIIB exhibits a strong substrate preference for the modified nucleotide 7-methylguanosine monophosphate but the structural reason for this preference was unknown. Here, we present crystal structures of cN-IIIB from Drosophila melanogaster bound to the reaction products 7-methylguanosine or cytidine. The structural data reveal that the cytosine- and 7-methylguanine moieties of the products are stacked between two aromatic residues in a coplanar but off-centered position. 7-methylguanosine is specifically bound through π-π interactions and distinguished from unmodified guanosine by additional cation-π coulomb interactions between the aromatic side chains and the positively charged 7-methylguanine. Notably, the base is further stabilized by T-shaped edge-to-face stacking of an additional tryptophan packing perpendicularly against the purine ring and forming, together with the other aromates, an aromatic slot. The structural data in combination with site-directed mutagenesis experiments reveal the molecular basis for the broad substrate specificity of cN-IIIB but also explain the substrate preference for 7-methylguanosine monophosphate. Analyzing the substrate specificities of cN-IIIB and the main pyrimidine 5'-nucleotidase cN-IIIA by mutagenesis studies, we show that cN-IIIA dephosphorylates the purine m7GMP as well, hence redefining its substrate spectrum. Docking calculations with cN-IIIA and m7GMP as well as biochemical data reveal that Asn69 does not generally exclude the turnover of purine substrates thus correcting previous suggestions.\" publications.doi='10.1371/journal.pone.0090915' publications.firstAuthor='Monecke Thomas' publications.id=1988552 publications.issue='3' publications.journal='PLoS ONE' publications.month=None publications.pages='e90915' publications.pubMedId='24603684' publications.title=\"Crystal structures of the novel cytosolic 5'-nucleotidase IIIB explain its preference for m7GMP.\" publications.volume='9' publications.year=2014\n"
     ]
    }
   ],
   "source": [
    "for row in query4.rows(size=10):\n",
    "    print(row)"
   ]
  }
 ],
 "metadata": {
  "anaconda-cloud": {},
  "kernelspec": {
   "display_name": "Python 2",
   "language": "python",
   "name": "python2"
  },
  "language_info": {
   "codemirror_mode": {
    "name": "ipython",
    "version": 2
   },
   "file_extension": ".py",
   "mimetype": "text/x-python",
   "name": "python",
   "nbconvert_exporter": "python",
   "pygments_lexer": "ipython2",
   "version": "2.7.14"
  }
 },
 "nbformat": 4,
 "nbformat_minor": 1
}
