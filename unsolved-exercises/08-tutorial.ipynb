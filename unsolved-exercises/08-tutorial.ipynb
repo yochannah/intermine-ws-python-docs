{
 "cells": [
  {
   "cell_type": "markdown",
   "metadata": {},
   "source": [
    "# Intermine-Python: Tutorial 8: Accessing your saved Templates"
   ]
  },
  {
   "cell_type": "markdown",
   "metadata": {},
   "source": [
    "This very short tutorial will talk about how you can access your saved templates and lists if you have your login information (username and password). If you don't have an account, you can create one at http://www.flymine.org/ - or choose your preferred mine"
   ]
  },
  {
   "cell_type": "markdown",
   "metadata": {},
   "source": [
    "Once, you have made an account, you can use the web service to create a query of your choice and save it as a template. This template can be used through the Python API or through the web service. "
   ]
  },
  {
   "cell_type": "markdown",
   "metadata": {},
   "source": [
    "To login and access your templates through Python, you can provide your login information as shown below. Note that the code shown below is in comments because it needs to be specific to your account. Change the username and password to match yours, uncomment the code, and then run it. "
   ]
  },
  {
   "cell_type": "code",
   "execution_count": 6,
   "metadata": {},
   "outputs": [],
   "source": [
    "from intermine.webservice import Service\n",
    "from intermine import query"
   ]
  },
  {
   "cell_type": "code",
   "execution_count": null,
   "metadata": {},
   "outputs": [],
   "source": [
    "#Update this line with your username, password, and change the url of the InterMine if needed.\n",
    "service=Service(\"www.flymine.org/flymine/service\",username=\"Enter username\",password=\"Enter password\")"
   ]
  },
  {
   "cell_type": "code",
   "execution_count": 4,
   "metadata": {
    "collapsed": true
   },
   "outputs": [],
   "source": [
    "#template=service.get_template(\"Name of a saved template\")"
   ]
  },
  {
   "cell_type": "markdown",
   "metadata": {},
   "source": [
    "You can then play around with this saved template like any of the existing templates you used in the last tutorial. "
   ]
  },
  {
   "cell_type": "markdown",
   "metadata": {},
   "source": [
    "To view the names of all the available templates you can view the templates dictionary - `service.templates` and iterate through it. Try it now. "
   ]
  },
  {
   "cell_type": "code",
   "execution_count": 7,
   "metadata": {},
   "outputs": [],
   "source": [
    "# This line is only necessary if you didn't set up your username/password details above.\n",
    "service = Service(\"www.flymine.org/flymine/service\")"
   ]
  },
  {
   "cell_type": "code",
   "execution_count": 10,
   "metadata": {},
   "outputs": [],
   "source": [
    "# To view all the the templates, look in the variable service.templates.\n"
   ]
  },
  {
   "cell_type": "markdown",
   "metadata": {},
   "source": [
    "That was a bit hard to read. Let's just look at the keys for the dictionary - that is, let's look at the template names, using `service.templates.keys()`"
   ]
  },
  {
   "cell_type": "code",
   "execution_count": null,
   "metadata": {},
   "outputs": [],
   "source": []
  },
  {
   "cell_type": "markdown",
   "metadata": {},
   "source": [
    "This dictionary contains all the information about all the available templates, including the exact name and description. If you now want to view the details about a particular template name, you can access it via the template's name."
   ]
  },
  {
   "cell_type": "code",
   "execution_count": 12,
   "metadata": {},
   "outputs": [],
   "source": [
    "# The syntax: service.template[\"some_template_name_here\"]\n",
    "# Try looking at the template \"Gene_RNAi\" if you're using FlyMine, or another template from your favourite mine. "
   ]
  },
  {
   "cell_type": "markdown",
   "metadata": {},
   "source": [
    "If you don't feel comfortable with viewing this dictionary, you can also view the [templates on FlyMine](http://www.flymine.org/flymine/templates.do), or go to the templates tab once you'veselected your preferred mine via the [InterMine registry](http://registry.intermine.org/). You can scroll through the list of templates. If you find an interesting template, click on the template and click on the Python link. This would show you how to call the template in Python using the exact name. "
   ]
  }
 ],
 "metadata": {
  "anaconda-cloud": {},
  "kernelspec": {
   "display_name": "Python 2",
   "language": "python",
   "name": "python2"
  },
  "language_info": {
   "codemirror_mode": {
    "name": "ipython",
    "version": 2
   },
   "file_extension": ".py",
   "mimetype": "text/x-python",
   "name": "python",
   "nbconvert_exporter": "python",
   "pygments_lexer": "ipython2",
   "version": "2.7.14"
  }
 },
 "nbformat": 4,
 "nbformat_minor": 1
}
