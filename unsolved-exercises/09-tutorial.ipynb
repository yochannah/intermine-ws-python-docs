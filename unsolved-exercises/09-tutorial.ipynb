{
 "cells": [
  {
   "cell_type": "markdown",
   "metadata": {},
   "source": [
    "# Intermine-Python: Tutorial 9: Creating Lists"
   ]
  },
  {
   "cell_type": "markdown",
   "metadata": {},
   "source": [
    "This tutorial will talk about how you can create and save lists in your account. Like the previous tutorial, you will need to provide your login information while creating a service object. "
   ]
  },
  {
   "cell_type": "markdown",
   "metadata": {},
   "source": [
    "You can either provide a list of identifiers (for example, gene symbols) and the InterMine Server will try to resolve them into objects in the database or you provide a query that specifies exactly what you want. "
   ]
  },
  {
   "cell_type": "code",
   "execution_count": null,
   "metadata": {},
   "outputs": [],
   "source": [
    "from intermine.webservice import Service"
   ]
  },
  {
   "cell_type": "markdown",
   "metadata": {},
   "source": [
    "Enter your login information, uncomment the line of code and then run it. "
   ]
  },
  {
   "cell_type": "code",
   "execution_count": null,
   "metadata": {},
   "outputs": [],
   "source": [
    "#service=Service(\"www.flymine.org/flymine/service\",username=\"Enter username\",password=\"Enter password\")"
   ]
  },
  {
   "cell_type": "markdown",
   "metadata": {},
   "source": [
    "## Creating a list from a set of gene identifiers\n",
    "\n",
    "We will look at three methods in this tutorial. Let's say you want to upload a list of strings (Gene Symbols). We begin by declaring a list, which I've called symbols. "
   ]
  },
  {
   "cell_type": "code",
   "execution_count": null,
   "metadata": {},
   "outputs": [],
   "source": [
    "symbols=[\"eve\",\"zen\",\"rudimentary\"]"
   ]
  },
  {
   "cell_type": "markdown",
   "metadata": {},
   "source": [
    "Note that you can use their secondary identifiers or DB identifiers instead if you're more comfortable with that. So if you changed symbols to `[\"CG2328\",\"zen\",\"rudimentary\"]` or `[\"eve\",\"FBgn0004053\",\"rudimentary\"]` it would not be an issue as InterMine would be able to resolve it for you. "
   ]
  },
  {
   "cell_type": "markdown",
   "metadata": {},
   "source": [
    "To create a list, you need to declare a `list_manager` object. We then use the `create_list` method. Remember to define a name for the list, otherwise the list will be lost once the session will be terminated. "
   ]
  },
  {
   "cell_type": "code",
   "execution_count": null,
   "metadata": {},
   "outputs": [],
   "source": [
    "# Task: create a variable called lm and assign a list manager to it\n",
    "# Syntax to create a list manager: service.list_manager()\n"
   ]
  },
  {
   "cell_type": "markdown",
   "metadata": {},
   "source": [
    "Ok, now let's create the list."
   ]
  },
  {
   "cell_type": "code",
   "execution_count": null,
   "metadata": {},
   "outputs": [],
   "source": [
    "# The syntax we're looking for is:\n",
    "# lm.create_list(content=some_list_of_identifiers,list_type=some_class, name=\"any name of your choice\")\n",
    "# Try the following - set:\n",
    "#  - content should be the symbols list we defined earlier\n",
    "#  - list_type is \"Gene\", since the symbols list contains genes\n",
    "#  - let's be creative and name this list \"my list\". \n"
   ]
  },
  {
   "cell_type": "markdown",
   "metadata": {},
   "source": [
    "## Creating a list from a Query\n",
    "\n",
    "We will now look at how you can save a list from a query. Suppose that you want to extract only the information regarding the gene symbol \"eve\" stored in the previous list that we uploaded. We'll build the query, add some constraints, then save the list."
   ]
  },
  {
   "cell_type": "code",
   "execution_count": null,
   "metadata": {},
   "outputs": [],
   "source": [
    "# create a new query off of the root class gene and assign it to the query variable. \n",
    "# Remember, the syntax to make a query is service.new_query(\"RootClass\")\n",
    "query="
   ]
  },
  {
   "cell_type": "code",
   "execution_count": null,
   "metadata": {},
   "outputs": [],
   "source": [
    "# add a constraint to say that:\n",
    "# - the Gene (the field we're constraining) \n",
    "# - must be IN (operator) \n",
    "# - \"my list\" (value)\n",
    "# Syntax - query.add_constraint(field_to_constrain, operator, value)\n",
    "\n"
   ]
  },
  {
   "cell_type": "code",
   "execution_count": null,
   "metadata": {},
   "outputs": [],
   "source": [
    "# Now let's add a second constraint, asserting that the field \"symbol\" should equal \"eve\".\n"
   ]
  },
  {
   "cell_type": "markdown",
   "metadata": {},
   "source": [
    "Ok, the query is built! Now we just need to save it to a list again. "
   ]
  },
  {
   "cell_type": "code",
   "execution_count": 3,
   "metadata": {},
   "outputs": [],
   "source": [
    "# Syntax: lm.create_list(list_contents, name=\"some meaningful name for your list....\")\n"
   ]
  },
  {
   "cell_type": "markdown",
   "metadata": {},
   "source": [
    "Finally, let's say that you have a file with a list of gene identifiers stored on your machine, which you want to upload as a list. Change the string stored to match the path location of your file. Uncomment the lines of code and run it. Here, we're assuming the file is a tsv, but csv or space separated is fine too."
   ]
  },
  {
   "cell_type": "code",
   "execution_count": null,
   "metadata": {},
   "outputs": [],
   "source": [
    "#file=\"Enter/File/Path.tsv\"\n",
    "#lm.create_list(file,list_type=\"Gene\",name=\"my list 3\")"
   ]
  },
  {
   "cell_type": "markdown",
   "metadata": {},
   "source": [
    "If you want to view the names of all the lists available, use `get_all_list_names()`"
   ]
  },
  {
   "cell_type": "code",
   "execution_count": 5,
   "metadata": {},
   "outputs": [],
   "source": [
    "# Try it now... lm.get_all_list_names()\n"
   ]
  }
 ],
 "metadata": {
  "anaconda-cloud": {},
  "kernelspec": {
   "display_name": "Python 2",
   "language": "python",
   "name": "python2"
  },
  "language_info": {
   "codemirror_mode": {
    "name": "ipython",
    "version": 2
   },
   "file_extension": ".py",
   "mimetype": "text/x-python",
   "name": "python",
   "nbconvert_exporter": "python",
   "pygments_lexer": "ipython2",
   "version": "2.7.14"
  }
 },
 "nbformat": 4,
 "nbformat_minor": 1
}
