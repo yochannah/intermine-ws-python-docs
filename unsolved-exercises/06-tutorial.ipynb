{
 "cells": [
  {
   "cell_type": "markdown",
   "metadata": {},
   "source": [
    "# Intermine-Python: Tutorial 6: Advanced Results Management"
   ]
  },
  {
   "cell_type": "markdown",
   "metadata": {},
   "source": [
    "In the previous tutorials we learnt how to add filters to limit the query results. However, it's often useful to view the results without filters, to get an idea about the shape of the data. This tutorial will show you how you can process, sort and analyse the query results. "
   ]
  },
  {
   "cell_type": "markdown",
   "metadata": {},
   "source": [
    "We begin by creating a query object. Our example for this tutorial is going to be related to RNA Sequences. "
   ]
  },
  {
   "cell_type": "code",
   "execution_count": null,
   "metadata": {},
   "outputs": [],
   "source": [
    "#Query setup\n",
    "from intermine.webservice import Service\n",
    "service = Service(\"www.flymine.org/flymine/service\")\n",
    "query=service.new_query()\n",
    "query.add_views(\"RNASeqResult.expressionScore RNASeqResult.expressionLevel RNASeqResult.gene.symbol\")"
   ]
  },
  {
   "cell_type": "markdown",
   "metadata": {},
   "source": [
    "Let's sort the results in descending order of their expression score. "
   ]
  },
  {
   "cell_type": "code",
   "execution_count": null,
   "metadata": {},
   "outputs": [],
   "source": [
    "# Syntax to sort is query.add_sort_order(\"Rootclass.columnName\", sort_order)\n",
    "# sort_order can be \"asc\" or \"desc\"\n",
    "# Try sorting the \"RNASeqResult.expressionScore\" in descending order. \n",
    "\n"
   ]
  },
  {
   "cell_type": "markdown",
   "metadata": {},
   "source": [
    "Let's check if the results are ordered as expected:"
   ]
  },
  {
   "cell_type": "code",
   "execution_count": null,
   "metadata": {},
   "outputs": [],
   "source": [
    "for r in query.rows(size=10):\n",
    "    print(r)"
   ]
  },
  {
   "cell_type": "markdown",
   "metadata": {},
   "source": [
    "Note that we have not added any constraints and so we have extracted all the possible results. "
   ]
  },
  {
   "cell_type": "markdown",
   "metadata": {},
   "source": [
    "#### The task: \n",
    "\n",
    "Let's say that we want to sort all the results into three different dictionaries (or maps). Let's store:\n",
    "- The ones with `expressionScores` of greater than 25 into one map\n",
    "- the ones with expression scores greater than 10 but lesser than (or equal to 25) in another map \n",
    "- all the remaining ones into a separate map. "
   ]
  },
  {
   "cell_type": "markdown",
   "metadata": {},
   "source": [
    "We begin by declaring three dictionaries to store the various expression levels in: "
   ]
  },
  {
   "cell_type": "code",
   "execution_count": null,
   "metadata": {},
   "outputs": [],
   "source": [
    "high_dict={}\n",
    "medium_dict={}\n",
    "low_dict={}"
   ]
  },
  {
   "cell_type": "code",
   "execution_count": 6,
   "metadata": {},
   "outputs": [
    {
     "ename": "IndentationError",
     "evalue": "expected an indented block (<ipython-input-6-a00a3e3e9703>, line 17)",
     "output_type": "error",
     "traceback": [
      "\u001b[0;36m  File \u001b[0;32m\"<ipython-input-6-a00a3e3e9703>\"\u001b[0;36m, line \u001b[0;32m17\u001b[0m\n\u001b[0;31m    #Now you'll want the if / else statents for medium / low results.\u001b[0m\n\u001b[0m                                                                     ^\u001b[0m\n\u001b[0;31mIndentationError\u001b[0m\u001b[0;31m:\u001b[0m expected an indented block\n"
     ]
    }
   ],
   "source": [
    "# This exercise is a test of your python for and if skills. \n",
    "#\n",
    "# In pseudo-code, you want something like this: \n",
    "# \n",
    "# for each row in the query:\n",
    "#    if the expressionScore is greater than 25, save the result in high_dict\n",
    "#    else,\n",
    "#        if the expressionscore is greater than 10, save it in medium_dict\n",
    "#        else if none of the previous criteria are met, save it in low_dict\n",
    "#\n",
    "# We've completed the first few lines for you as an example:\n",
    "\n",
    "for r in query.rows(size=5000):\n",
    "    if(r[\"expressionScore\"]>25):\n",
    "        high_dict[r[\"gene.symbol\"]]=r[\"expressionLevel\"]\n",
    "    else:\n",
    "        #Now you'll want the if / else statents for medium / low results."
   ]
  },
  {
   "cell_type": "markdown",
   "metadata": {},
   "source": [
    "If you now want to view the items stored in the `high_dict` dictionary, you can print them out as shown below. "
   ]
  },
  {
   "cell_type": "code",
   "execution_count": null,
   "metadata": {},
   "outputs": [],
   "source": [
    "for k,v in high_dict.items():\n",
    "    print(k,v)"
   ]
  },
  {
   "cell_type": "markdown",
   "metadata": {},
   "source": [
    "**Challenge:** Let's say that you want to view the average score for extremely high expressions. This can be done as follows. \n",
    "\n",
    "1. Create a variable to store the total sum of expression scores over 1000\n",
    "2. Create a variable to store the count of expression scores over 1000\n",
    "3. Use a for loop over query.rows()\n",
    "4. - Within the for loop, test if row[\"expressionScore\"] is greater than 1000.\n",
    "5. - Increment the count variable (e.g. count = count + 1 )\n",
    "6. - ADD the expressionScore to the total sum variable. \n",
    "7. Outside the loop, print the total divided by the count to get the mean of high expressions"
   ]
  },
  {
   "cell_type": "code",
   "execution_count": null,
   "metadata": {},
   "outputs": [],
   "source": [
    "# Try following the steps above to print the average of expressions with scores over 1000\n",
    "\n",
    "\n",
    "\n",
    "\n",
    "\n",
    "\n"
   ]
  },
  {
   "cell_type": "markdown",
   "metadata": {},
   "source": [
    "An advantage of extracting all the results first and then processing them in the client side is that you do not need to keep re-running the query with different constraints. If you change your mind about the constraints, iterate over the same results and store them into a different list by simply changing the \"if\" condition. "
   ]
  }
 ],
 "metadata": {
  "anaconda-cloud": {},
  "kernelspec": {
   "display_name": "Python 2",
   "language": "python",
   "name": "python2"
  },
  "language_info": {
   "codemirror_mode": {
    "name": "ipython",
    "version": 2
   },
   "file_extension": ".py",
   "mimetype": "text/x-python",
   "name": "python",
   "nbconvert_exporter": "python",
   "pygments_lexer": "ipython2",
   "version": "2.7.14"
  }
 },
 "nbformat": 4,
 "nbformat_minor": 1
}
