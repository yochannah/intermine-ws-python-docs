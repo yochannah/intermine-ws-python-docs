{
 "cells": [
  {
   "cell_type": "markdown",
   "metadata": {},
   "source": [
    "# Intermine-Python: Tutorial 7: Templates"
   ]
  },
  {
   "cell_type": "markdown",
   "metadata": {},
   "source": [
    "Templates are exactly like queries and can do everything that a query can do. "
   ]
  },
  {
   "cell_type": "markdown",
   "metadata": {},
   "source": [
    "While writing queries of your own, you would have probably realized that there is a lot of duplication of effort. Templates are basically pre defined queries that can be run numerous times and certain values can also be changed easily. "
   ]
  },
  {
   "cell_type": "markdown",
   "metadata": {},
   "source": [
    "Everything that you can do with a query - add new constraints, add new views, process the results using the results iterator can be done with templates as well. "
   ]
  },
  {
   "cell_type": "markdown",
   "metadata": {},
   "source": [
    "We will begin with a simple example. Let's say you want to extract the publication information about various Genes related to an organism. There is already a set template for this process. We begin by importing the Service class and then create a template object. The parameter that we pass to the get template method is the name of the template. "
   ]
  },
  {
   "cell_type": "code",
   "execution_count": 7,
   "metadata": {},
   "outputs": [],
   "source": [
    "from intermine.webservice import Service\n",
    "service = Service(\"www.flymine.org/flymine/service\")\n",
    "template=service.get_template('All_Genes_In_Organism_To_Publications')"
   ]
  },
  {
   "cell_type": "markdown",
   "metadata": {},
   "source": [
    "To check the columns that our results will have you can use `template.views`. If you want to add a column use the `add_view`  or `add_views` methods. "
   ]
  },
  {
   "cell_type": "code",
   "execution_count": 5,
   "metadata": {},
   "outputs": [],
   "source": [
    "# Try running template.views (no parenthesis) to see what columns we're selecting\n"
   ]
  },
  {
   "cell_type": "markdown",
   "metadata": {},
   "source": [
    "If you want to look at the current constraints, use `template.constraint_dict`. There is only one constraint that is editable, i.e. you can change the value or operator if you want. However, even for editable constraints you are not allowed to change the path of the constraint. "
   ]
  },
  {
   "cell_type": "code",
   "execution_count": 9,
   "metadata": {},
   "outputs": [],
   "source": [
    "#Now inspect the constraints using template.constraint_dict\n"
   ]
  },
  {
   "cell_type": "markdown",
   "metadata": {},
   "source": [
    "To view the results we can use the results iterator as we learned previously. "
   ]
  },
  {
   "cell_type": "code",
   "execution_count": 6,
   "metadata": {},
   "outputs": [
    {
     "name": "stdout",
     "output_type": "stream",
     "text": [
      "Gene: secondaryIdentifier='CG10000' publications.pubMedId='10731132' publications.firstAuthor='Adams M D' publications.journal='Science' publications.year=2000 organism.name='Drosophila melanogaster'\n",
      "Gene: secondaryIdentifier='CG10000' publications.pubMedId='11925450' publications.firstAuthor='Schwientek Tilo' publications.journal='J. Biol. Chem.' publications.year=2002 organism.name='Drosophila melanogaster'\n",
      "Gene: secondaryIdentifier='CG10000' publications.pubMedId='12537568' publications.firstAuthor='Celniker Susan E' publications.journal='Genome Biol.' publications.year=2002 organism.name='Drosophila melanogaster'\n",
      "Gene: secondaryIdentifier='CG10000' publications.pubMedId='12537569' publications.firstAuthor='Stapleton Mark' publications.journal='Genome Biol.' publications.year=2002 organism.name='Drosophila melanogaster'\n",
      "Gene: secondaryIdentifier='CG10000' publications.pubMedId='12537572' publications.firstAuthor='Misra Sima' publications.journal='Genome Biol.' publications.year=2002 organism.name='Drosophila melanogaster'\n",
      "Gene: secondaryIdentifier='CG10000' publications.pubMedId='12537573' publications.firstAuthor='Kaminker Joshua S' publications.journal='Genome Biol.' publications.year=2002 organism.name='Drosophila melanogaster'\n",
      "Gene: secondaryIdentifier='CG10000' publications.pubMedId='12537574' publications.firstAuthor='Hoskins Roger A' publications.journal='Genome Biol.' publications.year=2002 organism.name='Drosophila melanogaster'\n",
      "Gene: secondaryIdentifier='CG10000' publications.pubMedId='12829714' publications.firstAuthor='Ten Hagen Kelly G' publications.journal='J. Biol. Chem.' publications.year=2003 organism.name='Drosophila melanogaster'\n",
      "Gene: secondaryIdentifier='CG10000' publications.pubMedId='16110336' publications.firstAuthor='Quesneville Hadi' publications.journal='PLoS Comput. Biol.' publications.year=2005 organism.name='Drosophila melanogaster'\n",
      "Gene: secondaryIdentifier='CG10000' publications.pubMedId='16251381' publications.firstAuthor='Tian E' publications.journal='Glycobiology' publications.year=2006 organism.name='Drosophila melanogaster'\n"
     ]
    }
   ],
   "source": [
    "for row in template.results(row=\"rr\",size=10):\n",
    "    print(row)"
   ]
  },
  {
   "cell_type": "markdown",
   "metadata": {},
   "source": [
    "Let's say that you want to extract information for Drosophila erecta and not Drosophila melanogaster. You can edit the query while calling the results method, by adding the constraint info as an argument for the `template.results()` method. The constraint code can be viewed using `template.constraint_dict` as shown above. "
   ]
  },
  {
   "cell_type": "code",
   "execution_count": 14,
   "metadata": {},
   "outputs": [],
   "source": [
    "# the syntax you're looking for this time is\n",
    "# template.results(row=\"rr\", constraint_code={\"op\" : operator, \"value\" : \"Some value\"}, size=some_size)\n",
    "# Try setting... \n",
    "#  - the constraint_code to A\n",
    "#  - the operator (op) to \"=\"\n",
    "#  - \"Some value\" to \"Drosophila erecta\"\n",
    "# Then add code to print all the rows!\n",
    "\n"
   ]
  },
  {
   "cell_type": "markdown",
   "metadata": {},
   "source": [
    "This is how you can use a pre defined query and modify it to work for you. I would suggest that you visit the [FlyMine website](http://www.flymine.org/flymine/begin.do) or your favorite InterMine from the [registry](http://registry.intermine.org/) and take a look at some of the templates that have been defined there. Try running them using Python and change the constraints and views. "
   ]
  },
  {
   "cell_type": "code",
   "execution_count": 15,
   "metadata": {},
   "outputs": [],
   "source": [
    "# Exercise: Visit an InterMine, find a template that seems interesting, and try to run it here\n",
    "# - try adding a view\n",
    "# - try changing a constraint\n"
   ]
  },
  {
   "cell_type": "markdown",
   "metadata": {},
   "source": [
    "While exploring through templates you may come across templates that can be switched on or off. To switch off a constraint that is already turned on you can use the following code: \n",
    "`template.get_constraints('B').switch_off`, where `B` is the code of the constraint in the constraint dictionary. In our example, the code is `A` since there is only one constraint. "
   ]
  },
  {
   "cell_type": "markdown",
   "metadata": {},
   "source": [
    "To check if a particular constraint is switchable use the `get_switchable_status` method. This method can return three possible values - `locked`, `on` or `off`. Locked means that the particular constraint is fixed and cannot be switched on or off. If a particular constraint is switchable, it will return on or off depending on its current status. "
   ]
  },
  {
   "cell_type": "code",
   "execution_count": 17,
   "metadata": {},
   "outputs": [],
   "source": [
    "# The syntax is template.get_constraint(\"constraint_code\").get_switchable_status()\n",
    "# Try it on one of the templates you experimented with above. \n"
   ]
  },
  {
   "cell_type": "markdown",
   "metadata": {},
   "source": [
    "If you try to switch off a constraint that is \"locked\" or not switchable, you will get an error. "
   ]
  },
  {
   "cell_type": "code",
   "execution_count": 19,
   "metadata": {},
   "outputs": [],
   "source": [
    "# Try switching a constraint off - template.get_constraint('constraint_code').switch_off()\n"
   ]
  },
  {
   "cell_type": "markdown",
   "metadata": {},
   "source": [
    "This tutorial highlighted how templates help in automating commonly used queries and can make extremely efficient workflows. "
   ]
  }
 ],
 "metadata": {
  "anaconda-cloud": {},
  "kernelspec": {
   "display_name": "Python 2",
   "language": "python",
   "name": "python2"
  },
  "language_info": {
   "codemirror_mode": {
    "name": "ipython",
    "version": 2
   },
   "file_extension": ".py",
   "mimetype": "text/x-python",
   "name": "python",
   "nbconvert_exporter": "python",
   "pygments_lexer": "ipython2",
   "version": "2.7.14"
  }
 },
 "nbformat": 4,
 "nbformat_minor": 1
}
