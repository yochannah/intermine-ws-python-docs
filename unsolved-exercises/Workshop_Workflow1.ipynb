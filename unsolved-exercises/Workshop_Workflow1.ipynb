{
 "cells": [
  {
   "cell_type": "markdown",
   "metadata": {},
   "source": [
    "# Creating an InterMine workflow using the API."
   ]
  },
  {
   "cell_type": "markdown",
   "metadata": {},
   "source": [
    "We are going to re-create the workflow we did using the web interface using the Python API."
   ]
  },
  {
   "cell_type": "markdown",
   "metadata": {},
   "source": [
    "We start by importing the Service class from InterMine's webservice module.  You will need to access your account on humanMine and you do this through an API token. You can get your token by logging into [HumanMine](http://www.humanmine.org/) and going to the account details tab within MyMine.  Cut and paste your token into the code below."
   ]
  },
  {
   "cell_type": "code",
   "execution_count": null,
   "metadata": {},
   "outputs": [],
   "source": [
    "from intermine.webservice import Service\n",
    "service = Service(\"http://www.humanmine.org/humanmine/service\", token = \"Your Token\")\n"
   ]
  },
  {
   "cell_type": "markdown",
   "metadata": {},
   "source": [
    "Our first query looked at genes that are upregulated in adipose tissue.  Using the API we can either generate a query object or a template object to do this.  The code below shows how to generate a query object.  The `\"AtlasExpression\"` passed to the query object defines the query class.  \n",
    "\n",
    "To run the template through the API is very similar except we generate a template object rather than a query object (`template = service.get_template('TissueAtlas_Expression')`. `TissueAtlas_Expression` is the name of the template)."
   ]
  },
  {
   "cell_type": "code",
   "execution_count": null,
   "metadata": {},
   "outputs": [],
   "source": [
    "# Create a new query against the root class \"AtlasExpression\"\n",
    "# Syntax: service.new_query(\"root_class_here\")\n",
    "query = "
   ]
  },
  {
   "cell_type": "markdown",
   "metadata": {},
   "source": [
    "First we will define the output columns that we want in our result - i.e the view.  Note that we have started our query from the Atlas Expression class.  \"Condition\", \"expression\", \"pValue\" and \"tStatistic\" are attributes of this class.  The gene class is referenced from the AtlasExpression class, so to return the gene information we give the path to that information from the Atlas Expression class - i.e gene.primaryIdentifier etc."
   ]
  },
  {
   "cell_type": "code",
   "execution_count": 2,
   "metadata": {},
   "outputs": [],
   "source": [
    "# Now select the following views: \n",
    "#\n",
    "# \"condition\", \"gene.primaryIdentifier\", \"gene.symbol\", \"gene.name\",\n",
    "# \"expression\", \"pValue\", \"tStatistic\", \"dataSets.name\"\n",
    "#\n",
    "# The syntax to do so is query.add_view(\"comma\",\"separated\", \"set\", \"of\", \"views\")\n",
    "\n"
   ]
  },
  {
   "cell_type": "markdown",
   "metadata": {},
   "source": [
    "Next, add the constraints to your query.  We are only interested in genes expressed in Adipose tissue with a pValue <= 0.01."
   ]
  },
  {
   "cell_type": "code",
   "execution_count": 3,
   "metadata": {},
   "outputs": [],
   "source": [
    "# Syntax: query.add_constraint(\"view_name\", \"operator\", \"value\")\n",
    "#\n",
    "# Let's add two constraints: \n",
    "# - Set \"condition\" to be equal to \"Adipose tissue\"\n",
    "# - Set \"pValue\" to be less than or equal to \"0.01\"\n",
    "\n"
   ]
  },
  {
   "cell_type": "markdown",
   "metadata": {},
   "source": [
    "Now, let's check what the query returns by looping through the rows and printing the results:"
   ]
  },
  {
   "cell_type": "code",
   "execution_count": null,
   "metadata": {},
   "outputs": [],
   "source": [
    "for row in query.rows():\n",
    "    print (row[\"condition\"], row[\"gene.primaryIdentifier\"], row[\"gene.symbol\"], row[\"gene.name\"], \n",
    "        row[\"expression\"], row[\"pValue\"], row[\"tStatistic\"], row[\"dataSets.name\"])"
   ]
  },
  {
   "cell_type": "markdown",
   "metadata": {},
   "source": [
    "Note that this gives a lot of rows.  If we just want to check we are getting the right results we could print just the first 10 rows:"
   ]
  },
  {
   "cell_type": "code",
   "execution_count": null,
   "metadata": {},
   "outputs": [],
   "source": [
    "# To add size, the syntax for query.rows becomes \n",
    "# query.rows(start=some_number, size=number_of_results_wanted)\n",
    "#\n",
    "# Try it yourself - print in a for loop, the same as above, \n",
    "# but in the query.rows method we add the two arguments: \n",
    "# - start should be set to 0 (e.g. start at the first result)\n",
    "# - size should be set to 10 (please only show the first ten results)\n",
    "\n"
   ]
  },
  {
   "cell_type": "markdown",
   "metadata": {},
   "source": [
    "Now, remember that when we looked at the results table we used the filter options to show just the genes that are \"UP\" expressed in Adipose tissue.  We can do this by adding another constraint to our query.  (We could have added this straight away in our first set of constraints)."
   ]
  },
  {
   "cell_type": "code",
   "execution_count": null,
   "metadata": {},
   "outputs": [],
   "source": [
    "# Same constraint syntax as before! \n",
    "# query.add_constraint(\"view_name\", \"operator\", \"value\")\n",
    "# This time, the view \"expression\" should equal the value \"UP\",\n",
    "# and we'll add a 4th argument - code = \"A\"\n",
    "\n",
    " "
   ]
  },
  {
   "cell_type": "markdown",
   "metadata": {},
   "source": [
    "Now let's check our results again."
   ]
  },
  {
   "cell_type": "code",
   "execution_count": null,
   "metadata": {
    "scrolled": false
   },
   "outputs": [],
   "source": [
    "for row in query.rows(start=0, size=10):\n",
    "    print (row[\"condition\"], row[\"gene.primaryIdentifier\"], row[\"gene.symbol\"], row[\"gene.name\"], \n",
    "        row[\"expression\"], row[\"pValue\"], row[\"tStatistic\"], row[\"dataSets.name\"])"
   ]
  },
  {
   "cell_type": "markdown",
   "metadata": {},
   "source": [
    "We want to save this set of genes that are UP expressed in adipose for further analysis.  To do this we define our python list and loop through our results again - this time, instead of printing the results, we append just the primary identifiers returned to our list."
   ]
  },
  {
   "cell_type": "code",
   "execution_count": null,
   "metadata": {
    "scrolled": false
   },
   "outputs": [],
   "source": [
    "# let's make an empty python list called UpinAdipose\n",
    "UpinAdipose = list()\n",
    "\n",
    "# now let's use a for loop on query results and select just \n",
    "# the gene primary identifiers \n",
    "# then append them to our UpinAdipose list. \n",
    "\n"
   ]
  },
  {
   "cell_type": "markdown",
   "metadata": {},
   "source": [
    "and check that the list we have created looks correct:"
   ]
  },
  {
   "cell_type": "code",
   "execution_count": null,
   "metadata": {},
   "outputs": [],
   "source": [
    "print(UpinAdipose)"
   ]
  },
  {
   "cell_type": "markdown",
   "metadata": {},
   "source": [
    "We now need to save the list to our intermine account so we can use it again in a later query.  The `ListManager` class provides methods to manage list contents and operations."
   ]
  },
  {
   "cell_type": "code",
   "execution_count": 5,
   "metadata": {},
   "outputs": [],
   "source": [
    "# first let's make a new list manager assigned to the variable lm\n",
    "# the syntax to make a list manager is service.list_manager()\n",
    " \n",
    "\n",
    "# next, we want to put the contents of UpinAdipose into an InterMine list.\n",
    "# The syntax is lm.create_list(content=a_list_of_ids, list_type=\"identifier_class\", name=\"some name\")\n",
    "# In this case, you'll want to set the following arguments:\n",
    "# - content should be UpinAdipose\n",
    "# - list_type is \"Gene\"\n",
    "# - name - could be anything you want, but let's be consistent and call it \"UpinAdipose\"\n",
    "\n"
   ]
  },
  {
   "cell_type": "markdown",
   "metadata": {},
   "source": [
    "[Log in to HumanMine](http://www.humanmine.org/) and check your list has been created."
   ]
  },
  {
   "cell_type": "markdown",
   "metadata": {},
   "source": [
    "Our second query looked at whether any of the genes that were UP expressed in adipose tissue interact with the pparg gene. First, we define our new query object.  This time we start our query from the Gene class:"
   ]
  },
  {
   "cell_type": "code",
   "execution_count": 6,
   "metadata": {},
   "outputs": [
    {
     "ename": "NameError",
     "evalue": "name 'query2' is not defined",
     "output_type": "error",
     "traceback": [
      "\u001b[0;31m---------------------------------------------------------------------------\u001b[0m",
      "\u001b[0;31mNameError\u001b[0m                                 Traceback (most recent call last)",
      "\u001b[0;32m<ipython-input-6-b65edc74700d>\u001b[0m in \u001b[0;36m<module>\u001b[0;34m()\u001b[0m\n\u001b[1;32m      1\u001b[0m \u001b[0;31m# Create a new query against the root class \"Gene\"\u001b[0m\u001b[0;34m\u001b[0m\u001b[0;34m\u001b[0m\u001b[0m\n\u001b[1;32m      2\u001b[0m \u001b[0;31m# Syntax: service.new_query(\"root_class_here\")\u001b[0m\u001b[0;34m\u001b[0m\u001b[0;34m\u001b[0m\u001b[0m\n\u001b[0;32m----> 3\u001b[0;31m \u001b[0mquery2\u001b[0m\u001b[0;34m\u001b[0m\u001b[0m\n\u001b[0m",
      "\u001b[0;31mNameError\u001b[0m: name 'query2' is not defined"
     ]
    }
   ],
   "source": [
    "# Create a new query against the root class \"Gene\"\n",
    "# Syntax: service.new_query(\"root_class_here\")\n",
    "query2 ="
   ]
  },
  {
   "cell_type": "markdown",
   "metadata": {},
   "source": [
    "Add the views and constraints:"
   ]
  },
  {
   "cell_type": "code",
   "execution_count": null,
   "metadata": {},
   "outputs": [],
   "source": [
    "query2.add_view(\n",
    "    \"primaryIdentifier\", \"symbol\",\n",
    "    \"interactions.participant2.primaryIdentifier\",\n",
    "    \"interactions.participant2.symbol\", \"interactions.details.type\",\n",
    "    \"interactions.details.role1\", \"interactions.details.role2\",\n",
    "    \"interactions.details.experiment.interactionDetectionMethods.name\",\n",
    "    \"interactions.details.experiment.publication.pubMedId\",\n",
    "    \"interactions.details.dataSets.name\"\n",
    ")\n",
    "\n"
   ]
  },
  {
   "cell_type": "code",
   "execution_count": null,
   "metadata": {},
   "outputs": [],
   "source": [
    "# Syntax: query.add_constraint(\"root_class\", \"operator\", \"value\", \"optional_extra_value\", constraint_code)\n",
    "#\n",
    "# Constraint A - lookup a gene called \"pparg\" in H.sapiens\n",
    "# Constraint B - set \"interactions.participant2\" to be IN the \"UpinAdipose\" list\n",
    "\n",
    "\n"
   ]
  },
  {
   "cell_type": "markdown",
   "metadata": {},
   "source": [
    "In an interaction we have two participants.  Our first participant is from the Gene class and we have constrained this to be the gene PPARG.  Note that the pparg constraint is a LOOKUP. The lookup operator searches through all the fields in a particular class for the value specified. In the example given below, it will search through the entire gene class to find if any of the fields has an occurence of \"pparg\". The advantage of this is that you do not need to remember if pparg is a symbol or a name or a primaryIdentifier. Our second participant is from the interactions class and called participant2.  This is a bioentity like Gene and so shares some of the attributes, like primary identifier and symbol."
   ]
  },
  {
   "cell_type": "markdown",
   "metadata": {},
   "source": [
    "Check the results:"
   ]
  },
  {
   "cell_type": "code",
   "execution_count": null,
   "metadata": {},
   "outputs": [],
   "source": [
    "for row in query2.rows():\n",
    "    print (row[\"primaryIdentifier\"], row[\"symbol\"], \n",
    "        row[\"interactions.participant2.primaryIdentifier\"], row[\"interactions.participant2.symbol\"], \n",
    "        row[\"interactions.details.type\"], row[\"interactions.details.role1\"], \n",
    "        row[\"interactions.details.role2\"], \n",
    "        row[\"interactions.details.experiment.interactionDetectionMethods.name\"], \n",
    "        row[\"interactions.details.experiment.publication.pubMedId\"], \n",
    "        row[\"interactions.details.dataSets.name\"])"
   ]
  },
  {
   "cell_type": "markdown",
   "metadata": {},
   "source": [
    "Save the genes that interact with pparg to a list and save this list to your intermine account.  "
   ]
  },
  {
   "cell_type": "code",
   "execution_count": null,
   "metadata": {},
   "outputs": [],
   "source": [
    "# Make a new (python) list to store the interesting genes\n",
    "UpinAdiposeInteractPparg = list()\n",
    "\n",
    "# Loop through the identifiers and store them in the new list \n",
    "for row in query2.rows():\n",
    "    UpinAdiposeInteractPparg.append(row[\"interactions.participant2.primaryIdentifier\"])"
   ]
  },
  {
   "cell_type": "code",
   "execution_count": null,
   "metadata": {},
   "outputs": [],
   "source": [
    "# We created a list manager earlier, called lm.\n",
    "# Now we need to use the list manager to save another list.\n",
    "# \n",
    "# syntax reminder: is lm.create_list(content=a_list_of_ids, list_type=\"identifier_class\", name=\"some name\")\n",
    "# \n",
    "# - content should be UpinAdiposeInteractPparg\n",
    "# - list_type is \"Gene\"\n",
    "# - name  \"UpinAdiposeInteractPparg\"\n",
    "\n"
   ]
  },
  {
   "cell_type": "markdown",
   "metadata": {},
   "source": [
    "Finally, run the third query (genes that are associated with the disease diabetes, that we originally created using the query builder) and again, save the set of genes that are returned to your intermine account."
   ]
  },
  {
   "cell_type": "code",
   "execution_count": null,
   "metadata": {},
   "outputs": [],
   "source": [
    "query3 = service.new_query(\"Gene\")\n",
    "\n",
    "# Let's add views for \"primaryIdentifier\" and \"symbol\" using query.add_view()\n",
    "\n",
    "\n",
    "# And let's give it some constraints using \n",
    "# query.add_constraint(\"view_name\", \"operator\", \"value\", code = \"constraint_code\")\n",
    "# \n",
    "# Constraint A: organism_name should equal Homo sapiens\n",
    "# Constraint B: diseases.name should contain diabetes (operator is CONTAINS) \n",
    "\n",
    "# We've written the code to print it out for you. \n",
    "for row in query3.rows():\n",
    "    print (row[\"primaryIdentifier\"], row[\"symbol\"])"
   ]
  },
  {
   "cell_type": "code",
   "execution_count": null,
   "metadata": {},
   "outputs": [],
   "source": [
    "# Make a python list of gene identifiers\n",
    "diabetesGenes = list()\n",
    "for row in query3.rows():\n",
    "    diabetesGenes.append(row[\"primaryIdentifier\"])"
   ]
  },
  {
   "cell_type": "code",
   "execution_count": null,
   "metadata": {},
   "outputs": [],
   "source": [
    "# One last time, we'll create a list and save it to our HumanMine account\n",
    "#\n",
    "# syntax: lm.create_list(content=a_list_of_ids, list_type=\"identifier_class\", name=\"some name\")\n",
    "# \n",
    "# - content should be diabetesGenes\n",
    "# - list_type is \"Gene\"\n",
    "# - name  \"diabetesGenes\"\n",
    "# Try it now: \n"
   ]
  },
  {
   "cell_type": "markdown",
   "metadata": {},
   "source": [
    "Finally, we used a list intersect to find those genes that are upregulated in adipose tissue that also interact with pparg, that are also associated with the diease diabetes.  We need to intersect the second (UpinAdiposeInteractPparg) and third (diabetesGenes) lists that we created.  We can do this using the intersect method from the ListManager class."
   ]
  },
  {
   "cell_type": "code",
   "execution_count": null,
   "metadata": {},
   "outputs": [],
   "source": [
    "# The syntax to create an InterMine list intersection is\n",
    "# lm.intersect([\"comma_separated\", \"list\", \"of_intermine_lists\"], \"name for new list\")\n",
    "#\n",
    "# We want to intersect the last two lists we created - \n",
    "# \"UpinAdiposeInteractPparg\" and \"diabetesGenes\"\n",
    "# try it now: \n",
    "\n"
   ]
  },
  {
   "cell_type": "markdown",
   "metadata": {},
   "source": [
    "The last list intersection was stored in our HumanMine account, so we need to use the method `get_list` to retrieve it from HumanMine "
   ]
  },
  {
   "cell_type": "code",
   "execution_count": 7,
   "metadata": {},
   "outputs": [],
   "source": [
    "# Syntax: lm.get_list(\"name of the intersected list you just created\")\n",
    "# Store it in a variable called final, so we can print it in the next step\n"
   ]
  },
  {
   "cell_type": "code",
   "execution_count": null,
   "metadata": {},
   "outputs": [],
   "source": [
    "print(final)"
   ]
  },
  {
   "cell_type": "code",
   "execution_count": null,
   "metadata": {},
   "outputs": [],
   "source": [
    "for gene in final:\n",
    "        print (gene.primaryIdentifier, gene.symbol)"
   ]
  }
 ],
 "metadata": {
  "kernelspec": {
   "display_name": "Python 3",
   "language": "python",
   "name": "python3"
  },
  "language_info": {
   "codemirror_mode": {
    "name": "ipython",
    "version": 2
   },
   "file_extension": ".py",
   "mimetype": "text/x-python",
   "name": "python",
   "nbconvert_exporter": "python",
   "pygments_lexer": "ipython2",
   "version": "2.7.14"
  }
 },
 "nbformat": 4,
 "nbformat_minor": 2
}
