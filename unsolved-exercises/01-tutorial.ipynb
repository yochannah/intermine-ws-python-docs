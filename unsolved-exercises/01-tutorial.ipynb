{
 "cells": [
  {
   "cell_type": "markdown",
   "metadata": {},
   "source": [
    "# Intermine-Python: Tutorial 1: The Basics of a Query"
   ]
  },
  {
   "cell_type": "markdown",
   "metadata": {},
   "source": [
    "Welcome to your first intermine-python tutorial. Over a series of approximately 12 tutorials, we will go through the basics of writing code in Python that allows us to query the intermine database. "
   ]
  },
  {
   "cell_type": "markdown",
   "metadata": {},
   "source": [
    "This tutorial will tell you about the basics of intermine-python queries and how to write your first query. To get started, you would want to `conda install` the intermine package. Once you have installed the package, you are good to go! "
   ]
  },
  {
   "cell_type": "markdown",
   "metadata": {},
   "source": [
    "We start by importing the Service class from InterMine's webservice module. "
   ]
  },
  {
   "cell_type": "code",
   "execution_count": 2,
   "metadata": {
    "collapsed": true
   },
   "outputs": [],
   "source": [
    "# 1. Import the intermine.webservice module\n",
    "\n",
    "# 2. Instantiate a Service object against FlyMine's web service url: \"http://www.flymine.org/flymine/service\"\n"
   ]
  },
  {
   "cell_type": "markdown",
   "metadata": {},
   "source": [
    "The Service class has a method called \"new_query\" that creates a query object:"
   ]
  },
  {
   "cell_type": "code",
   "execution_count": 3,
   "metadata": {},
   "outputs": [],
   "source": [
    "# Instantiate a query object\n"
   ]
  },
  {
   "cell_type": "markdown",
   "metadata": {},
   "source": [
    "A query object defines what we want to extract from the InterMine database. The first part of a query is referred to as the \"views\". The views define the output columns that we want in our result. Let's query the FlyMine database to extract the symbol, primaryIdentifier and length of all genes."
   ]
  },
  {
   "cell_type": "code",
   "execution_count": 1,
   "metadata": {},
   "outputs": [],
   "source": [
    "# Let's select the symbol, primaryIdentifier, and length fields from Gene, using a dot separator\n",
    "# e.g. Gene.symbol\n"
   ]
  },
  {
   "cell_type": "markdown",
   "metadata": {},
   "source": [
    "Now that we have added the output columns to our query request we can print the results of our query."
   ]
  },
  {
   "cell_type": "code",
   "execution_count": 5,
   "metadata": {},
   "outputs": [
    {
     "name": "stdout",
     "output_type": "stream",
     "text": [
      "Gene: symbol='0610005C13Rik' primaryIdentifier='MGI:1918911' length=None\n",
      "Gene: symbol='0610006L08Rik' primaryIdentifier='MGI:1923503' length=None\n",
      "Gene: symbol='0610007P14Rik' primaryIdentifier='MGI:1915571' length=None\n",
      "Gene: symbol='0610008J02Rik' primaryIdentifier='MGI:1925547' length=None\n",
      "Gene: symbol='0610009B22Rik' primaryIdentifier='MGI:1913300' length=None\n",
      "Gene: symbol='0610009E02Rik' primaryIdentifier='MGI:3698435' length=None\n",
      "Gene: symbol='0610009F21Rik' primaryIdentifier='MGI:1918921' length=None\n",
      "Gene: symbol='0610009K14Rik' primaryIdentifier='MGI:1918931' length=None\n",
      "Gene: symbol='0610009L18Rik' primaryIdentifier='MGI:1914088' length=None\n",
      "Gene: symbol='0610009O20Rik' primaryIdentifier='MGI:1914089' length=None\n"
     ]
    }
   ],
   "source": [
    "# use query.rows() to return an iterator"
   ]
  },
  {
   "cell_type": "markdown",
   "metadata": {},
   "source": [
    "The query can also be rewritten in the following way. "
   ]
  },
  {
   "cell_type": "code",
   "execution_count": 5,
   "metadata": {},
   "outputs": [
    {
     "data": {
      "text/plain": [
       "<intermine.query.Query at 0x7fcdd577b160>"
      ]
     },
     "execution_count": 5,
     "metadata": {},
     "output_type": "execute_result"
    }
   ],
   "source": [
    "# Instantiate the query with a default root class of \"Gene\"\n",
    "\n",
    "# Now note we don't need to prefix everything with \"Gene\".\n"
   ]
  },
  {
   "cell_type": "code",
   "execution_count": 6,
   "metadata": {
    "scrolled": true
   },
   "outputs": [
    {
     "name": "stdout",
     "output_type": "stream",
     "text": [
      "Gene: symbol='0610005C13Rik' primaryIdentifier='MGI:1918911' length=None\n",
      "Gene: symbol='0610006L08Rik' primaryIdentifier='MGI:1923503' length=None\n",
      "Gene: symbol='0610007P14Rik' primaryIdentifier='MGI:1915571' length=None\n",
      "Gene: symbol='0610008J02Rik' primaryIdentifier='MGI:1925547' length=None\n",
      "Gene: symbol='0610009B22Rik' primaryIdentifier='MGI:1913300' length=None\n",
      "Gene: symbol='0610009E02Rik' primaryIdentifier='MGI:3698435' length=None\n",
      "Gene: symbol='0610009F21Rik' primaryIdentifier='MGI:1918921' length=None\n",
      "Gene: symbol='0610009K14Rik' primaryIdentifier='MGI:1918931' length=None\n",
      "Gene: symbol='0610009L18Rik' primaryIdentifier='MGI:1914088' length=None\n",
      "Gene: symbol='0610009O20Rik' primaryIdentifier='MGI:1914089' length=None\n"
     ]
    }
   ],
   "source": [
    "#Print the results again - see they're the same? "
   ]
  },
  {
   "cell_type": "markdown",
   "metadata": {},
   "source": [
    "Feel free to use whichever method you find more comfortable. "
   ]
  },
  {
   "cell_type": "markdown",
   "metadata": {},
   "source": [
    "## Query for organisms: \n",
    "\n",
    "Now, let us try to write a new query that returns all organisms in the database."
   ]
  },
  {
   "cell_type": "code",
   "execution_count": 7,
   "metadata": {},
   "outputs": [],
   "source": [
    "# Initiate a new query , like we did earlier, but store it in \n",
    "# a new variable name - maybe organism_query\n"
   ]
  },
  {
   "cell_type": "code",
   "execution_count": 8,
   "metadata": {},
   "outputs": [
    {
     "data": {
      "text/plain": [
       "<intermine.query.Query at 0x7fcdd5714320>"
      ]
     },
     "execution_count": 8,
     "metadata": {},
     "output_type": "execute_result"
    }
   ],
   "source": [
    "# Now create a view - let's choose to see \"Organism.name\"\n"
   ]
  },
  {
   "cell_type": "markdown",
   "metadata": {},
   "source": [
    "If we want to add another column to our final output, instead of rewriting your query, you can use the `add_view` method."
   ]
  },
  {
   "cell_type": "code",
   "execution_count": 9,
   "metadata": {},
   "outputs": [
    {
     "data": {
      "text/plain": [
       "<intermine.query.Query at 0x7fcdd5714320>"
      ]
     },
     "execution_count": 9,
     "metadata": {},
     "output_type": "execute_result"
    }
   ],
   "source": [
    "# Let's add \"Organism.taxonId\"\n"
   ]
  },
  {
   "cell_type": "code",
   "execution_count": 10,
   "metadata": {},
   "outputs": [
    {
     "name": "stdout",
     "output_type": "stream",
     "text": [
      "Organism: name='Anopheles gambiae' taxonId=7165\n",
      "Organism: name='Caenorhabditis elegans' taxonId=6239\n",
      "Organism: name='Danio rerio' taxonId=7955\n",
      "Organism: name='Drosophila ananassae' taxonId=7217\n",
      "Organism: name='Drosophila erecta' taxonId=7220\n",
      "Organism: name='Drosophila grimshawi' taxonId=7222\n",
      "Organism: name='Drosophila melanogaster' taxonId=7227\n",
      "Organism: name='Drosophila mojavensis' taxonId=7230\n",
      "Organism: name='Drosophila persimilis' taxonId=7234\n",
      "Organism: name='Drosophila pseudoobscura' taxonId=7237\n"
     ]
    }
   ],
   "source": [
    "# Print the results... \n"
   ]
  },
  {
   "cell_type": "markdown",
   "metadata": {},
   "source": [
    "By default, the result will be sorted according to the first column that you defined. If you want to change this sorting order to another column, use the `add_sort_order` method of the `query` class. "
   ]
  },
  {
   "cell_type": "code",
   "execution_count": 3,
   "metadata": {},
   "outputs": [],
   "source": [
    "# Let's sort by Organism.taxonId\n"
   ]
  },
  {
   "cell_type": "code",
   "execution_count": 12,
   "metadata": {},
   "outputs": [
    {
     "name": "stdout",
     "output_type": "stream",
     "text": [
      "Organism: name='Saccharomyces cerevisiae' taxonId=4932\n",
      "Organism: name='Caenorhabditis elegans' taxonId=6239\n",
      "Organism: name='Anopheles gambiae' taxonId=7165\n",
      "Organism: name='Drosophila ananassae' taxonId=7217\n",
      "Organism: name='Drosophila erecta' taxonId=7220\n",
      "Organism: name='Drosophila grimshawi' taxonId=7222\n",
      "Organism: name='Drosophila melanogaster' taxonId=7227\n",
      "Organism: name='Drosophila mojavensis' taxonId=7230\n",
      "Organism: name='Drosophila persimilis' taxonId=7234\n",
      "Organism: name='Drosophila pseudoobscura' taxonId=7237\n"
     ]
    }
   ],
   "source": [
    "#Print the results again - ta-da! Sorted.\n"
   ]
  },
  {
   "cell_type": "markdown",
   "metadata": {},
   "source": [
    "As you can see, I've limited the results to only 10 rows. You can change this number if you want to view more or fewer rows. The above queries will list all the organisms or all the genes in the database, and hence we limited the number of rows in our output. Views or output columns are one part of queries. The second part is to add constraints on these queries. We will take a look at adding constraints in our next tutorial. "
   ]
  }
 ],
 "metadata": {
  "anaconda-cloud": {},
  "kernelspec": {
   "display_name": "Python 3",
   "language": "python",
   "name": "python3"
  },
  "language_info": {
   "codemirror_mode": {
    "name": "ipython",
    "version": 2
   },
   "file_extension": ".py",
   "mimetype": "text/x-python",
   "name": "python",
   "nbconvert_exporter": "python",
   "pygments_lexer": "ipython2",
   "version": "2.7.14"
  }
 },
 "nbformat": 4,
 "nbformat_minor": 1
}
